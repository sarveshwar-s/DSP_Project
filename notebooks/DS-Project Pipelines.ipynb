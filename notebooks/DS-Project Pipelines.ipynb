{
 "cells": [
  {
   "cell_type": "code",
   "execution_count": null,
   "id": "9d3216ed",
   "metadata": {},
   "outputs": [],
   "source": []
  },
  {
   "cell_type": "code",
   "execution_count": 263,
   "id": "3b9da5e9",
   "metadata": {},
   "outputs": [],
   "source": [
    "import pandas as pd\n",
    "import numpy as np"
   ]
  },
  {
   "cell_type": "markdown",
   "id": "f15e67f6",
   "metadata": {},
   "source": [
    "## Energy data Analysis"
   ]
  },
  {
   "cell_type": "code",
   "execution_count": 264,
   "id": "6ca596dc",
   "metadata": {},
   "outputs": [
    {
     "data": {
      "text/html": [
       "<div>\n",
       "<style scoped>\n",
       "    .dataframe tbody tr th:only-of-type {\n",
       "        vertical-align: middle;\n",
       "    }\n",
       "\n",
       "    .dataframe tbody tr th {\n",
       "        vertical-align: top;\n",
       "    }\n",
       "\n",
       "    .dataframe thead th {\n",
       "        text-align: right;\n",
       "    }\n",
       "</style>\n",
       "<table border=\"1\" class=\"dataframe\">\n",
       "  <thead>\n",
       "    <tr style=\"text-align: right;\">\n",
       "      <th></th>\n",
       "      <th>LCLid</th>\n",
       "      <th>day</th>\n",
       "      <th>energy_median</th>\n",
       "      <th>energy_mean</th>\n",
       "      <th>energy_max</th>\n",
       "      <th>energy_count</th>\n",
       "      <th>energy_std</th>\n",
       "      <th>energy_sum</th>\n",
       "      <th>energy_min</th>\n",
       "    </tr>\n",
       "  </thead>\n",
       "  <tbody>\n",
       "    <tr>\n",
       "      <th>0</th>\n",
       "      <td>MAC000002</td>\n",
       "      <td>2012-10-12</td>\n",
       "      <td>0.1385</td>\n",
       "      <td>0.154304</td>\n",
       "      <td>0.886</td>\n",
       "      <td>46</td>\n",
       "      <td>0.196034</td>\n",
       "      <td>7.098</td>\n",
       "      <td>0.000</td>\n",
       "    </tr>\n",
       "    <tr>\n",
       "      <th>1</th>\n",
       "      <td>MAC000002</td>\n",
       "      <td>2012-10-13</td>\n",
       "      <td>0.1800</td>\n",
       "      <td>0.230979</td>\n",
       "      <td>0.933</td>\n",
       "      <td>48</td>\n",
       "      <td>0.192329</td>\n",
       "      <td>11.087</td>\n",
       "      <td>0.076</td>\n",
       "    </tr>\n",
       "    <tr>\n",
       "      <th>2</th>\n",
       "      <td>MAC000002</td>\n",
       "      <td>2012-10-14</td>\n",
       "      <td>0.1580</td>\n",
       "      <td>0.275479</td>\n",
       "      <td>1.085</td>\n",
       "      <td>48</td>\n",
       "      <td>0.274647</td>\n",
       "      <td>13.223</td>\n",
       "      <td>0.070</td>\n",
       "    </tr>\n",
       "    <tr>\n",
       "      <th>3</th>\n",
       "      <td>MAC000002</td>\n",
       "      <td>2012-10-15</td>\n",
       "      <td>0.1310</td>\n",
       "      <td>0.213688</td>\n",
       "      <td>1.164</td>\n",
       "      <td>48</td>\n",
       "      <td>0.224483</td>\n",
       "      <td>10.257</td>\n",
       "      <td>0.070</td>\n",
       "    </tr>\n",
       "    <tr>\n",
       "      <th>4</th>\n",
       "      <td>MAC000002</td>\n",
       "      <td>2012-10-16</td>\n",
       "      <td>0.1450</td>\n",
       "      <td>0.203521</td>\n",
       "      <td>0.991</td>\n",
       "      <td>48</td>\n",
       "      <td>0.184115</td>\n",
       "      <td>9.769</td>\n",
       "      <td>0.087</td>\n",
       "    </tr>\n",
       "  </tbody>\n",
       "</table>\n",
       "</div>"
      ],
      "text/plain": [
       "       LCLid         day  energy_median  energy_mean  energy_max  \\\n",
       "0  MAC000002  2012-10-12         0.1385     0.154304       0.886   \n",
       "1  MAC000002  2012-10-13         0.1800     0.230979       0.933   \n",
       "2  MAC000002  2012-10-14         0.1580     0.275479       1.085   \n",
       "3  MAC000002  2012-10-15         0.1310     0.213688       1.164   \n",
       "4  MAC000002  2012-10-16         0.1450     0.203521       0.991   \n",
       "\n",
       "   energy_count  energy_std  energy_sum  energy_min  \n",
       "0            46    0.196034       7.098       0.000  \n",
       "1            48    0.192329      11.087       0.076  \n",
       "2            48    0.274647      13.223       0.070  \n",
       "3            48    0.224483      10.257       0.070  \n",
       "4            48    0.184115       9.769       0.087  "
      ]
     },
     "execution_count": 264,
     "metadata": {},
     "output_type": "execute_result"
    }
   ],
   "source": [
    "energy_data = pd.read_csv(\"../data/daily_dataset/block_0.csv\")\n",
    "energy_data.head()"
   ]
  },
  {
   "cell_type": "code",
   "execution_count": 265,
   "id": "35a28eea",
   "metadata": {},
   "outputs": [],
   "source": [
    "# Here target variable is energy sum \n",
    "# We are going to keep LCLid, day and energy_sum\n",
    "energy_data = energy_data.drop([\"energy_median\",\"energy_mean\", \"energy_max\", \"energy_count\", \"energy_std\", \"energy_min\"], axis=1)"
   ]
  },
  {
   "cell_type": "code",
   "execution_count": 266,
   "id": "83cddc8e",
   "metadata": {},
   "outputs": [
    {
     "data": {
      "text/html": [
       "<div>\n",
       "<style scoped>\n",
       "    .dataframe tbody tr th:only-of-type {\n",
       "        vertical-align: middle;\n",
       "    }\n",
       "\n",
       "    .dataframe tbody tr th {\n",
       "        vertical-align: top;\n",
       "    }\n",
       "\n",
       "    .dataframe thead th {\n",
       "        text-align: right;\n",
       "    }\n",
       "</style>\n",
       "<table border=\"1\" class=\"dataframe\">\n",
       "  <thead>\n",
       "    <tr style=\"text-align: right;\">\n",
       "      <th></th>\n",
       "      <th>LCLid</th>\n",
       "      <th>day</th>\n",
       "      <th>energy_sum</th>\n",
       "    </tr>\n",
       "  </thead>\n",
       "  <tbody>\n",
       "    <tr>\n",
       "      <th>0</th>\n",
       "      <td>MAC000002</td>\n",
       "      <td>2012-10-12</td>\n",
       "      <td>7.098</td>\n",
       "    </tr>\n",
       "    <tr>\n",
       "      <th>1</th>\n",
       "      <td>MAC000002</td>\n",
       "      <td>2012-10-13</td>\n",
       "      <td>11.087</td>\n",
       "    </tr>\n",
       "    <tr>\n",
       "      <th>2</th>\n",
       "      <td>MAC000002</td>\n",
       "      <td>2012-10-14</td>\n",
       "      <td>13.223</td>\n",
       "    </tr>\n",
       "    <tr>\n",
       "      <th>3</th>\n",
       "      <td>MAC000002</td>\n",
       "      <td>2012-10-15</td>\n",
       "      <td>10.257</td>\n",
       "    </tr>\n",
       "    <tr>\n",
       "      <th>4</th>\n",
       "      <td>MAC000002</td>\n",
       "      <td>2012-10-16</td>\n",
       "      <td>9.769</td>\n",
       "    </tr>\n",
       "  </tbody>\n",
       "</table>\n",
       "</div>"
      ],
      "text/plain": [
       "       LCLid         day  energy_sum\n",
       "0  MAC000002  2012-10-12       7.098\n",
       "1  MAC000002  2012-10-13      11.087\n",
       "2  MAC000002  2012-10-14      13.223\n",
       "3  MAC000002  2012-10-15      10.257\n",
       "4  MAC000002  2012-10-16       9.769"
      ]
     },
     "execution_count": 266,
     "metadata": {},
     "output_type": "execute_result"
    }
   ],
   "source": [
    "energy_data.head()"
   ]
  },
  {
   "cell_type": "code",
   "execution_count": 267,
   "id": "97c16dc7",
   "metadata": {},
   "outputs": [],
   "source": [
    "energy_data[\"day\"] = pd.to_datetime(energy_data[\"day\"])"
   ]
  },
  {
   "cell_type": "code",
   "execution_count": 268,
   "id": "f7301b34",
   "metadata": {},
   "outputs": [
    {
     "data": {
      "text/html": [
       "<div>\n",
       "<style scoped>\n",
       "    .dataframe tbody tr th:only-of-type {\n",
       "        vertical-align: middle;\n",
       "    }\n",
       "\n",
       "    .dataframe tbody tr th {\n",
       "        vertical-align: top;\n",
       "    }\n",
       "\n",
       "    .dataframe thead th {\n",
       "        text-align: right;\n",
       "    }\n",
       "</style>\n",
       "<table border=\"1\" class=\"dataframe\">\n",
       "  <thead>\n",
       "    <tr style=\"text-align: right;\">\n",
       "      <th></th>\n",
       "      <th>LCLid</th>\n",
       "      <th>day</th>\n",
       "      <th>energy_sum</th>\n",
       "    </tr>\n",
       "  </thead>\n",
       "  <tbody>\n",
       "    <tr>\n",
       "      <th>0</th>\n",
       "      <td>MAC000002</td>\n",
       "      <td>2012-10-12</td>\n",
       "      <td>7.098</td>\n",
       "    </tr>\n",
       "    <tr>\n",
       "      <th>1</th>\n",
       "      <td>MAC000002</td>\n",
       "      <td>2012-10-13</td>\n",
       "      <td>11.087</td>\n",
       "    </tr>\n",
       "    <tr>\n",
       "      <th>2</th>\n",
       "      <td>MAC000002</td>\n",
       "      <td>2012-10-14</td>\n",
       "      <td>13.223</td>\n",
       "    </tr>\n",
       "    <tr>\n",
       "      <th>3</th>\n",
       "      <td>MAC000002</td>\n",
       "      <td>2012-10-15</td>\n",
       "      <td>10.257</td>\n",
       "    </tr>\n",
       "    <tr>\n",
       "      <th>4</th>\n",
       "      <td>MAC000002</td>\n",
       "      <td>2012-10-16</td>\n",
       "      <td>9.769</td>\n",
       "    </tr>\n",
       "    <tr>\n",
       "      <th>...</th>\n",
       "      <td>...</td>\n",
       "      <td>...</td>\n",
       "      <td>...</td>\n",
       "    </tr>\n",
       "    <tr>\n",
       "      <th>25569</th>\n",
       "      <td>MAC005492</td>\n",
       "      <td>2014-02-24</td>\n",
       "      <td>8.402</td>\n",
       "    </tr>\n",
       "    <tr>\n",
       "      <th>25570</th>\n",
       "      <td>MAC005492</td>\n",
       "      <td>2014-02-25</td>\n",
       "      <td>7.718</td>\n",
       "    </tr>\n",
       "    <tr>\n",
       "      <th>25571</th>\n",
       "      <td>MAC005492</td>\n",
       "      <td>2014-02-26</td>\n",
       "      <td>8.570</td>\n",
       "    </tr>\n",
       "    <tr>\n",
       "      <th>25572</th>\n",
       "      <td>MAC005492</td>\n",
       "      <td>2014-02-27</td>\n",
       "      <td>7.016</td>\n",
       "    </tr>\n",
       "    <tr>\n",
       "      <th>25573</th>\n",
       "      <td>MAC005492</td>\n",
       "      <td>2014-02-28</td>\n",
       "      <td>0.088</td>\n",
       "    </tr>\n",
       "  </tbody>\n",
       "</table>\n",
       "<p>25574 rows × 3 columns</p>\n",
       "</div>"
      ],
      "text/plain": [
       "           LCLid         day  energy_sum\n",
       "0      MAC000002  2012-10-12       7.098\n",
       "1      MAC000002  2012-10-13      11.087\n",
       "2      MAC000002  2012-10-14      13.223\n",
       "3      MAC000002  2012-10-15      10.257\n",
       "4      MAC000002  2012-10-16       9.769\n",
       "...          ...         ...         ...\n",
       "25569  MAC005492  2014-02-24       8.402\n",
       "25570  MAC005492  2014-02-25       7.718\n",
       "25571  MAC005492  2014-02-26       8.570\n",
       "25572  MAC005492  2014-02-27       7.016\n",
       "25573  MAC005492  2014-02-28       0.088\n",
       "\n",
       "[25574 rows x 3 columns]"
      ]
     },
     "execution_count": 268,
     "metadata": {},
     "output_type": "execute_result"
    }
   ],
   "source": [
    "energy_data[\"day\"] = energy_data[\"day\"].dt.date # gets all the date\n",
    "energy_data"
   ]
  },
  {
   "cell_type": "markdown",
   "id": "c29bece8",
   "metadata": {},
   "source": [
    "## Weather Data Analysis"
   ]
  },
  {
   "cell_type": "code",
   "execution_count": 269,
   "id": "612d531e",
   "metadata": {
    "scrolled": true
   },
   "outputs": [
    {
     "data": {
      "text/html": [
       "<div>\n",
       "<style scoped>\n",
       "    .dataframe tbody tr th:only-of-type {\n",
       "        vertical-align: middle;\n",
       "    }\n",
       "\n",
       "    .dataframe tbody tr th {\n",
       "        vertical-align: top;\n",
       "    }\n",
       "\n",
       "    .dataframe thead th {\n",
       "        text-align: right;\n",
       "    }\n",
       "</style>\n",
       "<table border=\"1\" class=\"dataframe\">\n",
       "  <thead>\n",
       "    <tr style=\"text-align: right;\">\n",
       "      <th></th>\n",
       "      <th>temperatureMax</th>\n",
       "      <th>temperatureMaxTime</th>\n",
       "      <th>windBearing</th>\n",
       "      <th>icon</th>\n",
       "      <th>dewPoint</th>\n",
       "      <th>temperatureMinTime</th>\n",
       "      <th>cloudCover</th>\n",
       "      <th>windSpeed</th>\n",
       "      <th>pressure</th>\n",
       "      <th>apparentTemperatureMinTime</th>\n",
       "      <th>...</th>\n",
       "      <th>temperatureHigh</th>\n",
       "      <th>sunriseTime</th>\n",
       "      <th>temperatureHighTime</th>\n",
       "      <th>uvIndexTime</th>\n",
       "      <th>summary</th>\n",
       "      <th>temperatureLowTime</th>\n",
       "      <th>apparentTemperatureMin</th>\n",
       "      <th>apparentTemperatureMaxTime</th>\n",
       "      <th>apparentTemperatureLowTime</th>\n",
       "      <th>moonPhase</th>\n",
       "    </tr>\n",
       "  </thead>\n",
       "  <tbody>\n",
       "    <tr>\n",
       "      <th>0</th>\n",
       "      <td>11.96</td>\n",
       "      <td>2011-11-11 23:00:00</td>\n",
       "      <td>123</td>\n",
       "      <td>fog</td>\n",
       "      <td>9.40</td>\n",
       "      <td>2011-11-11 07:00:00</td>\n",
       "      <td>0.79</td>\n",
       "      <td>3.88</td>\n",
       "      <td>1016.08</td>\n",
       "      <td>2011-11-11 07:00:00</td>\n",
       "      <td>...</td>\n",
       "      <td>10.87</td>\n",
       "      <td>2011-11-11 07:12:14</td>\n",
       "      <td>2011-11-11 19:00:00</td>\n",
       "      <td>2011-11-11 11:00:00</td>\n",
       "      <td>Foggy until afternoon.</td>\n",
       "      <td>2011-11-11 19:00:00</td>\n",
       "      <td>6.48</td>\n",
       "      <td>2011-11-11 23:00:00</td>\n",
       "      <td>2011-11-11 19:00:00</td>\n",
       "      <td>0.52</td>\n",
       "    </tr>\n",
       "    <tr>\n",
       "      <th>1</th>\n",
       "      <td>8.59</td>\n",
       "      <td>2011-12-11 14:00:00</td>\n",
       "      <td>198</td>\n",
       "      <td>partly-cloudy-day</td>\n",
       "      <td>4.49</td>\n",
       "      <td>2011-12-11 01:00:00</td>\n",
       "      <td>0.56</td>\n",
       "      <td>3.94</td>\n",
       "      <td>1007.71</td>\n",
       "      <td>2011-12-11 02:00:00</td>\n",
       "      <td>...</td>\n",
       "      <td>8.59</td>\n",
       "      <td>2011-12-11 07:57:02</td>\n",
       "      <td>2011-12-11 14:00:00</td>\n",
       "      <td>2011-12-11 12:00:00</td>\n",
       "      <td>Partly cloudy throughout the day.</td>\n",
       "      <td>2011-12-12 07:00:00</td>\n",
       "      <td>0.11</td>\n",
       "      <td>2011-12-11 20:00:00</td>\n",
       "      <td>2011-12-12 08:00:00</td>\n",
       "      <td>0.53</td>\n",
       "    </tr>\n",
       "    <tr>\n",
       "      <th>2</th>\n",
       "      <td>10.33</td>\n",
       "      <td>2011-12-27 02:00:00</td>\n",
       "      <td>225</td>\n",
       "      <td>partly-cloudy-day</td>\n",
       "      <td>5.47</td>\n",
       "      <td>2011-12-27 23:00:00</td>\n",
       "      <td>0.85</td>\n",
       "      <td>3.54</td>\n",
       "      <td>1032.76</td>\n",
       "      <td>2011-12-27 22:00:00</td>\n",
       "      <td>...</td>\n",
       "      <td>10.33</td>\n",
       "      <td>2011-12-27 08:07:06</td>\n",
       "      <td>2011-12-27 14:00:00</td>\n",
       "      <td>2011-12-27 00:00:00</td>\n",
       "      <td>Mostly cloudy throughout the day.</td>\n",
       "      <td>2011-12-27 23:00:00</td>\n",
       "      <td>5.59</td>\n",
       "      <td>2011-12-27 02:00:00</td>\n",
       "      <td>2011-12-28 00:00:00</td>\n",
       "      <td>0.10</td>\n",
       "    </tr>\n",
       "    <tr>\n",
       "      <th>3</th>\n",
       "      <td>8.07</td>\n",
       "      <td>2011-12-02 23:00:00</td>\n",
       "      <td>232</td>\n",
       "      <td>wind</td>\n",
       "      <td>3.69</td>\n",
       "      <td>2011-12-02 07:00:00</td>\n",
       "      <td>0.32</td>\n",
       "      <td>3.00</td>\n",
       "      <td>1012.12</td>\n",
       "      <td>2011-12-02 07:00:00</td>\n",
       "      <td>...</td>\n",
       "      <td>7.36</td>\n",
       "      <td>2011-12-02 07:46:09</td>\n",
       "      <td>2011-12-02 12:00:00</td>\n",
       "      <td>2011-12-02 10:00:00</td>\n",
       "      <td>Partly cloudy throughout the day and breezy ov...</td>\n",
       "      <td>2011-12-02 19:00:00</td>\n",
       "      <td>0.46</td>\n",
       "      <td>2011-12-02 12:00:00</td>\n",
       "      <td>2011-12-02 19:00:00</td>\n",
       "      <td>0.25</td>\n",
       "    </tr>\n",
       "    <tr>\n",
       "      <th>4</th>\n",
       "      <td>8.22</td>\n",
       "      <td>2011-12-24 23:00:00</td>\n",
       "      <td>252</td>\n",
       "      <td>partly-cloudy-night</td>\n",
       "      <td>2.79</td>\n",
       "      <td>2011-12-24 07:00:00</td>\n",
       "      <td>0.37</td>\n",
       "      <td>4.46</td>\n",
       "      <td>1028.17</td>\n",
       "      <td>2011-12-24 07:00:00</td>\n",
       "      <td>...</td>\n",
       "      <td>7.93</td>\n",
       "      <td>2011-12-24 08:06:15</td>\n",
       "      <td>2011-12-24 15:00:00</td>\n",
       "      <td>2011-12-24 13:00:00</td>\n",
       "      <td>Mostly cloudy throughout the day.</td>\n",
       "      <td>2011-12-24 19:00:00</td>\n",
       "      <td>-0.51</td>\n",
       "      <td>2011-12-24 23:00:00</td>\n",
       "      <td>2011-12-24 20:00:00</td>\n",
       "      <td>0.99</td>\n",
       "    </tr>\n",
       "  </tbody>\n",
       "</table>\n",
       "<p>5 rows × 32 columns</p>\n",
       "</div>"
      ],
      "text/plain": [
       "   temperatureMax   temperatureMaxTime  windBearing                 icon  \\\n",
       "0           11.96  2011-11-11 23:00:00          123                  fog   \n",
       "1            8.59  2011-12-11 14:00:00          198    partly-cloudy-day   \n",
       "2           10.33  2011-12-27 02:00:00          225    partly-cloudy-day   \n",
       "3            8.07  2011-12-02 23:00:00          232                 wind   \n",
       "4            8.22  2011-12-24 23:00:00          252  partly-cloudy-night   \n",
       "\n",
       "   dewPoint   temperatureMinTime  cloudCover  windSpeed  pressure  \\\n",
       "0      9.40  2011-11-11 07:00:00        0.79       3.88   1016.08   \n",
       "1      4.49  2011-12-11 01:00:00        0.56       3.94   1007.71   \n",
       "2      5.47  2011-12-27 23:00:00        0.85       3.54   1032.76   \n",
       "3      3.69  2011-12-02 07:00:00        0.32       3.00   1012.12   \n",
       "4      2.79  2011-12-24 07:00:00        0.37       4.46   1028.17   \n",
       "\n",
       "  apparentTemperatureMinTime  ...  temperatureHigh          sunriseTime  \\\n",
       "0        2011-11-11 07:00:00  ...            10.87  2011-11-11 07:12:14   \n",
       "1        2011-12-11 02:00:00  ...             8.59  2011-12-11 07:57:02   \n",
       "2        2011-12-27 22:00:00  ...            10.33  2011-12-27 08:07:06   \n",
       "3        2011-12-02 07:00:00  ...             7.36  2011-12-02 07:46:09   \n",
       "4        2011-12-24 07:00:00  ...             7.93  2011-12-24 08:06:15   \n",
       "\n",
       "   temperatureHighTime          uvIndexTime  \\\n",
       "0  2011-11-11 19:00:00  2011-11-11 11:00:00   \n",
       "1  2011-12-11 14:00:00  2011-12-11 12:00:00   \n",
       "2  2011-12-27 14:00:00  2011-12-27 00:00:00   \n",
       "3  2011-12-02 12:00:00  2011-12-02 10:00:00   \n",
       "4  2011-12-24 15:00:00  2011-12-24 13:00:00   \n",
       "\n",
       "                                             summary   temperatureLowTime  \\\n",
       "0                             Foggy until afternoon.  2011-11-11 19:00:00   \n",
       "1                  Partly cloudy throughout the day.  2011-12-12 07:00:00   \n",
       "2                  Mostly cloudy throughout the day.  2011-12-27 23:00:00   \n",
       "3  Partly cloudy throughout the day and breezy ov...  2011-12-02 19:00:00   \n",
       "4                  Mostly cloudy throughout the day.  2011-12-24 19:00:00   \n",
       "\n",
       "   apparentTemperatureMin  apparentTemperatureMaxTime  \\\n",
       "0                    6.48         2011-11-11 23:00:00   \n",
       "1                    0.11         2011-12-11 20:00:00   \n",
       "2                    5.59         2011-12-27 02:00:00   \n",
       "3                    0.46         2011-12-02 12:00:00   \n",
       "4                   -0.51         2011-12-24 23:00:00   \n",
       "\n",
       "  apparentTemperatureLowTime moonPhase  \n",
       "0        2011-11-11 19:00:00      0.52  \n",
       "1        2011-12-12 08:00:00      0.53  \n",
       "2        2011-12-28 00:00:00      0.10  \n",
       "3        2011-12-02 19:00:00      0.25  \n",
       "4        2011-12-24 20:00:00      0.99  \n",
       "\n",
       "[5 rows x 32 columns]"
      ]
     },
     "execution_count": 269,
     "metadata": {},
     "output_type": "execute_result"
    }
   ],
   "source": [
    "weather = pd.read_csv(\"../data/weather_dataset/weather_daily_darksky.csv\")\n",
    "weather.head()"
   ]
  },
  {
   "cell_type": "code",
   "execution_count": 270,
   "id": "62232cc1",
   "metadata": {},
   "outputs": [],
   "source": [
    "# Here we keep the temperatureMax, temperatureMin and the temperatureMaxTime\n",
    "new_weather = weather[[\"temperatureMaxTime\",\"temperatureMax\",\"temperatureMin\"]]"
   ]
  },
  {
   "cell_type": "code",
   "execution_count": 271,
   "id": "8073391c",
   "metadata": {},
   "outputs": [
    {
     "data": {
      "text/html": [
       "<div>\n",
       "<style scoped>\n",
       "    .dataframe tbody tr th:only-of-type {\n",
       "        vertical-align: middle;\n",
       "    }\n",
       "\n",
       "    .dataframe tbody tr th {\n",
       "        vertical-align: top;\n",
       "    }\n",
       "\n",
       "    .dataframe thead th {\n",
       "        text-align: right;\n",
       "    }\n",
       "</style>\n",
       "<table border=\"1\" class=\"dataframe\">\n",
       "  <thead>\n",
       "    <tr style=\"text-align: right;\">\n",
       "      <th></th>\n",
       "      <th>temperatureMaxTime</th>\n",
       "      <th>temperatureMax</th>\n",
       "      <th>temperatureMin</th>\n",
       "    </tr>\n",
       "  </thead>\n",
       "  <tbody>\n",
       "    <tr>\n",
       "      <th>0</th>\n",
       "      <td>2011-11-11 23:00:00</td>\n",
       "      <td>11.96</td>\n",
       "      <td>8.85</td>\n",
       "    </tr>\n",
       "    <tr>\n",
       "      <th>1</th>\n",
       "      <td>2011-12-11 14:00:00</td>\n",
       "      <td>8.59</td>\n",
       "      <td>2.48</td>\n",
       "    </tr>\n",
       "    <tr>\n",
       "      <th>2</th>\n",
       "      <td>2011-12-27 02:00:00</td>\n",
       "      <td>10.33</td>\n",
       "      <td>8.03</td>\n",
       "    </tr>\n",
       "    <tr>\n",
       "      <th>3</th>\n",
       "      <td>2011-12-02 23:00:00</td>\n",
       "      <td>8.07</td>\n",
       "      <td>2.56</td>\n",
       "    </tr>\n",
       "    <tr>\n",
       "      <th>4</th>\n",
       "      <td>2011-12-24 23:00:00</td>\n",
       "      <td>8.22</td>\n",
       "      <td>3.17</td>\n",
       "    </tr>\n",
       "  </tbody>\n",
       "</table>\n",
       "</div>"
      ],
      "text/plain": [
       "    temperatureMaxTime  temperatureMax  temperatureMin\n",
       "0  2011-11-11 23:00:00           11.96            8.85\n",
       "1  2011-12-11 14:00:00            8.59            2.48\n",
       "2  2011-12-27 02:00:00           10.33            8.03\n",
       "3  2011-12-02 23:00:00            8.07            2.56\n",
       "4  2011-12-24 23:00:00            8.22            3.17"
      ]
     },
     "execution_count": 271,
     "metadata": {},
     "output_type": "execute_result"
    }
   ],
   "source": [
    "new_weather.head()"
   ]
  },
  {
   "cell_type": "code",
   "execution_count": 272,
   "id": "06768506",
   "metadata": {},
   "outputs": [
    {
     "name": "stderr",
     "output_type": "stream",
     "text": [
      "C:\\Users\\sarve\\AppData\\Roaming\\Python\\Python39\\site-packages\\pandas\\core\\frame.py:3607: SettingWithCopyWarning: \n",
      "A value is trying to be set on a copy of a slice from a DataFrame.\n",
      "Try using .loc[row_indexer,col_indexer] = value instead\n",
      "\n",
      "See the caveats in the documentation: https://pandas.pydata.org/pandas-docs/stable/user_guide/indexing.html#returning-a-view-versus-a-copy\n",
      "  self._set_item(key, value)\n"
     ]
    }
   ],
   "source": [
    "new_weather[\"temperatureMaxTime\"] = pd.to_datetime(new_weather[\"temperatureMaxTime\"])"
   ]
  },
  {
   "cell_type": "code",
   "execution_count": 273,
   "id": "18ab34d2",
   "metadata": {},
   "outputs": [],
   "source": [
    "new_weather[\"day\"] = new_weather[\"temperatureMaxTime\"].dt.date"
   ]
  },
  {
   "cell_type": "code",
   "execution_count": 274,
   "id": "f6345862",
   "metadata": {},
   "outputs": [
    {
     "data": {
      "text/html": [
       "<div>\n",
       "<style scoped>\n",
       "    .dataframe tbody tr th:only-of-type {\n",
       "        vertical-align: middle;\n",
       "    }\n",
       "\n",
       "    .dataframe tbody tr th {\n",
       "        vertical-align: top;\n",
       "    }\n",
       "\n",
       "    .dataframe thead th {\n",
       "        text-align: right;\n",
       "    }\n",
       "</style>\n",
       "<table border=\"1\" class=\"dataframe\">\n",
       "  <thead>\n",
       "    <tr style=\"text-align: right;\">\n",
       "      <th></th>\n",
       "      <th>temperatureMaxTime</th>\n",
       "      <th>temperatureMax</th>\n",
       "      <th>temperatureMin</th>\n",
       "      <th>day</th>\n",
       "    </tr>\n",
       "  </thead>\n",
       "  <tbody>\n",
       "    <tr>\n",
       "      <th>0</th>\n",
       "      <td>2011-11-11 23:00:00</td>\n",
       "      <td>11.96</td>\n",
       "      <td>8.85</td>\n",
       "      <td>2011-11-11</td>\n",
       "    </tr>\n",
       "    <tr>\n",
       "      <th>1</th>\n",
       "      <td>2011-12-11 14:00:00</td>\n",
       "      <td>8.59</td>\n",
       "      <td>2.48</td>\n",
       "      <td>2011-12-11</td>\n",
       "    </tr>\n",
       "    <tr>\n",
       "      <th>2</th>\n",
       "      <td>2011-12-27 02:00:00</td>\n",
       "      <td>10.33</td>\n",
       "      <td>8.03</td>\n",
       "      <td>2011-12-27</td>\n",
       "    </tr>\n",
       "    <tr>\n",
       "      <th>3</th>\n",
       "      <td>2011-12-02 23:00:00</td>\n",
       "      <td>8.07</td>\n",
       "      <td>2.56</td>\n",
       "      <td>2011-12-02</td>\n",
       "    </tr>\n",
       "    <tr>\n",
       "      <th>4</th>\n",
       "      <td>2011-12-24 23:00:00</td>\n",
       "      <td>8.22</td>\n",
       "      <td>3.17</td>\n",
       "      <td>2011-12-24</td>\n",
       "    </tr>\n",
       "    <tr>\n",
       "      <th>...</th>\n",
       "      <td>...</td>\n",
       "      <td>...</td>\n",
       "      <td>...</td>\n",
       "      <td>...</td>\n",
       "    </tr>\n",
       "    <tr>\n",
       "      <th>877</th>\n",
       "      <td>2014-01-26 16:00:00</td>\n",
       "      <td>9.03</td>\n",
       "      <td>3.26</td>\n",
       "      <td>2014-01-26</td>\n",
       "    </tr>\n",
       "    <tr>\n",
       "      <th>878</th>\n",
       "      <td>2014-02-27 14:00:00</td>\n",
       "      <td>10.31</td>\n",
       "      <td>3.93</td>\n",
       "      <td>2014-02-27</td>\n",
       "    </tr>\n",
       "    <tr>\n",
       "      <th>879</th>\n",
       "      <td>2014-03-09 14:00:00</td>\n",
       "      <td>18.97</td>\n",
       "      <td>7.65</td>\n",
       "      <td>2014-03-09</td>\n",
       "    </tr>\n",
       "    <tr>\n",
       "      <th>880</th>\n",
       "      <td>2014-02-12 16:00:00</td>\n",
       "      <td>8.83</td>\n",
       "      <td>3.03</td>\n",
       "      <td>2014-02-12</td>\n",
       "    </tr>\n",
       "    <tr>\n",
       "      <th>881</th>\n",
       "      <td>2014-02-15 12:00:00</td>\n",
       "      <td>9.90</td>\n",
       "      <td>5.38</td>\n",
       "      <td>2014-02-15</td>\n",
       "    </tr>\n",
       "  </tbody>\n",
       "</table>\n",
       "<p>882 rows × 4 columns</p>\n",
       "</div>"
      ],
      "text/plain": [
       "     temperatureMaxTime  temperatureMax  temperatureMin         day\n",
       "0   2011-11-11 23:00:00           11.96            8.85  2011-11-11\n",
       "1   2011-12-11 14:00:00            8.59            2.48  2011-12-11\n",
       "2   2011-12-27 02:00:00           10.33            8.03  2011-12-27\n",
       "3   2011-12-02 23:00:00            8.07            2.56  2011-12-02\n",
       "4   2011-12-24 23:00:00            8.22            3.17  2011-12-24\n",
       "..                  ...             ...             ...         ...\n",
       "877 2014-01-26 16:00:00            9.03            3.26  2014-01-26\n",
       "878 2014-02-27 14:00:00           10.31            3.93  2014-02-27\n",
       "879 2014-03-09 14:00:00           18.97            7.65  2014-03-09\n",
       "880 2014-02-12 16:00:00            8.83            3.03  2014-02-12\n",
       "881 2014-02-15 12:00:00            9.90            5.38  2014-02-15\n",
       "\n",
       "[882 rows x 4 columns]"
      ]
     },
     "execution_count": 274,
     "metadata": {},
     "output_type": "execute_result"
    }
   ],
   "source": [
    "new_weather # This is the final weather dataset"
   ]
  },
  {
   "cell_type": "code",
   "execution_count": 275,
   "id": "8bc83d81",
   "metadata": {},
   "outputs": [
    {
     "name": "stderr",
     "output_type": "stream",
     "text": [
      "C:\\Users\\sarve\\AppData\\Roaming\\Python\\Python39\\site-packages\\pandas\\core\\frame.py:3607: SettingWithCopyWarning: \n",
      "A value is trying to be set on a copy of a slice from a DataFrame.\n",
      "Try using .loc[row_indexer,col_indexer] = value instead\n",
      "\n",
      "See the caveats in the documentation: https://pandas.pydata.org/pandas-docs/stable/user_guide/indexing.html#returning-a-view-versus-a-copy\n",
      "  self._set_item(key, value)\n"
     ]
    }
   ],
   "source": [
    "new_weather[\"day\"] = new_weather[\"day\"].sort_values()"
   ]
  },
  {
   "cell_type": "markdown",
   "id": "25628368",
   "metadata": {},
   "source": [
    "## Merging the energy and weather dataset based on the date"
   ]
  },
  {
   "cell_type": "code",
   "execution_count": 276,
   "id": "91dbe913",
   "metadata": {},
   "outputs": [
    {
     "data": {
      "text/html": [
       "<div>\n",
       "<style scoped>\n",
       "    .dataframe tbody tr th:only-of-type {\n",
       "        vertical-align: middle;\n",
       "    }\n",
       "\n",
       "    .dataframe tbody tr th {\n",
       "        vertical-align: top;\n",
       "    }\n",
       "\n",
       "    .dataframe thead th {\n",
       "        text-align: right;\n",
       "    }\n",
       "</style>\n",
       "<table border=\"1\" class=\"dataframe\">\n",
       "  <thead>\n",
       "    <tr style=\"text-align: right;\">\n",
       "      <th></th>\n",
       "      <th>LCLid</th>\n",
       "      <th>day</th>\n",
       "      <th>energy_sum</th>\n",
       "      <th>temperatureMax</th>\n",
       "      <th>temperatureMin</th>\n",
       "    </tr>\n",
       "  </thead>\n",
       "  <tbody>\n",
       "    <tr>\n",
       "      <th>0</th>\n",
       "      <td>MAC000002</td>\n",
       "      <td>2012-10-13</td>\n",
       "      <td>11.087000</td>\n",
       "      <td>11.53</td>\n",
       "      <td>6.41</td>\n",
       "    </tr>\n",
       "    <tr>\n",
       "      <th>1</th>\n",
       "      <td>MAC000246</td>\n",
       "      <td>2012-10-13</td>\n",
       "      <td>19.283000</td>\n",
       "      <td>11.53</td>\n",
       "      <td>6.41</td>\n",
       "    </tr>\n",
       "    <tr>\n",
       "      <th>2</th>\n",
       "      <td>MAC000450</td>\n",
       "      <td>2012-10-13</td>\n",
       "      <td>89.343999</td>\n",
       "      <td>11.53</td>\n",
       "      <td>6.41</td>\n",
       "    </tr>\n",
       "    <tr>\n",
       "      <th>3</th>\n",
       "      <td>MAC001074</td>\n",
       "      <td>2012-10-13</td>\n",
       "      <td>22.727000</td>\n",
       "      <td>11.53</td>\n",
       "      <td>6.41</td>\n",
       "    </tr>\n",
       "    <tr>\n",
       "      <th>4</th>\n",
       "      <td>MAC003223</td>\n",
       "      <td>2012-10-13</td>\n",
       "      <td>19.271000</td>\n",
       "      <td>11.53</td>\n",
       "      <td>6.41</td>\n",
       "    </tr>\n",
       "    <tr>\n",
       "      <th>...</th>\n",
       "      <td>...</td>\n",
       "      <td>...</td>\n",
       "      <td>...</td>\n",
       "      <td>...</td>\n",
       "      <td>...</td>\n",
       "    </tr>\n",
       "    <tr>\n",
       "      <th>25565</th>\n",
       "      <td>MAC004387</td>\n",
       "      <td>2012-10-11</td>\n",
       "      <td>4.758000</td>\n",
       "      <td>14.88</td>\n",
       "      <td>9.15</td>\n",
       "    </tr>\n",
       "    <tr>\n",
       "      <th>25566</th>\n",
       "      <td>MAC004431</td>\n",
       "      <td>2012-10-11</td>\n",
       "      <td>24.459000</td>\n",
       "      <td>14.72</td>\n",
       "      <td>8.51</td>\n",
       "    </tr>\n",
       "    <tr>\n",
       "      <th>25567</th>\n",
       "      <td>MAC004431</td>\n",
       "      <td>2012-10-11</td>\n",
       "      <td>24.459000</td>\n",
       "      <td>14.88</td>\n",
       "      <td>9.15</td>\n",
       "    </tr>\n",
       "    <tr>\n",
       "      <th>25568</th>\n",
       "      <td>MAC005492</td>\n",
       "      <td>2012-10-11</td>\n",
       "      <td>8.771000</td>\n",
       "      <td>14.72</td>\n",
       "      <td>8.51</td>\n",
       "    </tr>\n",
       "    <tr>\n",
       "      <th>25569</th>\n",
       "      <td>MAC005492</td>\n",
       "      <td>2012-10-11</td>\n",
       "      <td>8.771000</td>\n",
       "      <td>14.88</td>\n",
       "      <td>9.15</td>\n",
       "    </tr>\n",
       "  </tbody>\n",
       "</table>\n",
       "<p>25570 rows × 5 columns</p>\n",
       "</div>"
      ],
      "text/plain": [
       "           LCLid         day  energy_sum  temperatureMax  temperatureMin\n",
       "0      MAC000002  2012-10-13   11.087000           11.53            6.41\n",
       "1      MAC000246  2012-10-13   19.283000           11.53            6.41\n",
       "2      MAC000450  2012-10-13   89.343999           11.53            6.41\n",
       "3      MAC001074  2012-10-13   22.727000           11.53            6.41\n",
       "4      MAC003223  2012-10-13   19.271000           11.53            6.41\n",
       "...          ...         ...         ...             ...             ...\n",
       "25565  MAC004387  2012-10-11    4.758000           14.88            9.15\n",
       "25566  MAC004431  2012-10-11   24.459000           14.72            8.51\n",
       "25567  MAC004431  2012-10-11   24.459000           14.88            9.15\n",
       "25568  MAC005492  2012-10-11    8.771000           14.72            8.51\n",
       "25569  MAC005492  2012-10-11    8.771000           14.88            9.15\n",
       "\n",
       "[25570 rows x 5 columns]"
      ]
     },
     "execution_count": 276,
     "metadata": {},
     "output_type": "execute_result"
    }
   ],
   "source": [
    "final_df = energy_data.merge(right=new_weather, how=\"inner\")\n",
    "final_df = final_df.drop([\"temperatureMaxTime\"], axis=1)\n",
    "final_df[\"LCLid\"].nunique()\n",
    "final_df"
   ]
  },
  {
   "cell_type": "markdown",
   "id": "8d13a5bd",
   "metadata": {},
   "source": [
    "## PreProcessing and Implementation of Random Forest"
   ]
  },
  {
   "cell_type": "code",
   "execution_count": 277,
   "id": "2f23ddff",
   "metadata": {},
   "outputs": [],
   "source": [
    "from sklearn.metrics import mean_squared_log_error\n",
    "from sklearn.preprocessing import MinMaxScaler\n",
    "from sklearn.preprocessing import OneHotEncoder\n",
    "from sklearn.model_selection import train_test_split\n",
    "from sklearn.linear_model import LinearRegression"
   ]
  },
  {
   "cell_type": "code",
   "execution_count": 278,
   "id": "173fb4c9",
   "metadata": {},
   "outputs": [],
   "source": [
    "def preprocessing_pipeline(data: pd.DataFrame, isInference:bool = False) -> pd.DataFrame:\n",
    "\n",
    "    numerical_data = get_numerical_values(data) \n",
    "\n",
    "    categorical_data = get_categorical_columns(data)\n",
    "\n",
    "    encoded_categorical_data = get_encoded_data(categorical_data, isInference)\n",
    "\n",
    "    encoded_categorical_data_df = convert_to_dataframe(encoded_categorical_data)\n",
    "\n",
    "    processed_df = concat_dataframes_on_index(numerical_data, encoded_categorical_data_df)\n",
    "\n",
    "    return processed_df"
   ]
  },
  {
   "cell_type": "code",
   "execution_count": 279,
   "id": "6df8f8ba",
   "metadata": {},
   "outputs": [],
   "source": [
    "# Gets numerical columns from the dataset\n",
    "def get_numerical_values(data: pd.DataFrame) -> pd.DataFrame:\n",
    "    numerical_data = data.select_dtypes(include=[np.number])\n",
    "    return numerical_data\n",
    "\n",
    "\n",
    "# Gets categorical columns from the dataset\n",
    "def get_categorical_columns(data: pd.DataFrame) -> pd.DataFrame:\n",
    "    categorical_data = data.select_dtypes(exclude=[np.number])\n",
    "    return categorical_data\n",
    "\n",
    "# Performing normalization of numerical data\n",
    "# def min_max_normalization(numerical_data: pd.DataFrame) -> MinMaxScaler:\n",
    "#     scaler = MinMaxScaler()\n",
    "#     scaled_data = MinMaxScaler(numerical_data)\n",
    "#     # display(scaled_data)\n",
    "#     return scaled_data\n",
    "\n",
    "# Performing encoding -> Feature engineering\n",
    "def get_encoded_data(categorical_data: pd.DataFrame, isInference = False) -> np.ndarray:\n",
    "    if not isInference:\n",
    "        global cat_data_list\n",
    "        cat_df = categorical_data\n",
    "        cat_df = cat_df.dropna(axis=0)\n",
    "        display(cat_df)\n",
    "        \n",
    "        ohe = OneHotEncoder(handle_unknown = 'ignore')\n",
    "        encoded_categorical_fit = ohe.fit(cat_df)\n",
    "        encoded_categorical_data = encoded_categorical_fit.transform(cat_df)\n",
    "        store_model(encoded_categorical_fit,\"../models/\", isEncoder=True)\n",
    "        encoded_categorical_data = encoded_categorical_data.toarray()\n",
    "    else:\n",
    "        cat_df = categorical_data\n",
    "        display(cat_df)\n",
    "        cat_df = cat_df.dropna(axis=0)\n",
    "        path = \"../models/encoder/encoder_1.joblib\"\n",
    "        encoded_model = load_model(path)\n",
    "        encoded_categorical_data = encoded_model.transform(cat_df)\n",
    "        encoded_categorical_data = encoded_categorical_data.toarray()\n",
    "    return encoded_categorical_data\n",
    "\n",
    "# Convertion to dataFrame\n",
    "def convert_to_dataframe(data_np: np.ndarray) -> pd.DataFrame:\n",
    "    return pd.DataFrame(data_np)\n",
    "\n",
    "# Saves the model\n",
    "def store_model(model, model_path: str, isEncoder: bool = False) -> str:\n",
    "    from joblib import dump, load\n",
    "    if not isEncoder:\n",
    "        model_path = model_path + \"model_1.joblib\"\n",
    "        dump(model, model_path)\n",
    "    else:\n",
    "        model_encoder_path = \"../models/encoder/encoder_1.joblib\"\n",
    "        dump(model, model_encoder_path)\n",
    "        return model_encoder_path\n",
    "    return model_path\n",
    "\n",
    "def concat_dataframes_on_index(numerical_data: pd.DataFrame, encoded_categorical_data: pd.DataFrame) -> pd.DataFrame:\n",
    "    global num_data_list\n",
    "    num_df = numerical_data\n",
    "    final_df = pd.concat([num_df, encoded_categorical_data], axis=1, join=\"inner\")\n",
    "    return final_df\n",
    "\n",
    "def load_model(path: str):\n",
    "    from joblib import dump, load\n",
    "    loaded_model = load(path)\n",
    "    return loaded_model\n"
   ]
  },
  {
   "cell_type": "code",
   "execution_count": 280,
   "id": "9b6ba5a8",
   "metadata": {},
   "outputs": [],
   "source": [
    "# processed_df = preprocessing_pipeline(final_df)"
   ]
  },
  {
   "cell_type": "code",
   "execution_count": 281,
   "id": "2e035334",
   "metadata": {},
   "outputs": [],
   "source": [
    "from sklearn.ensemble import RandomForestRegressor, AdaBoostRegressor\n",
    "from sklearn.linear_model import LinearRegression"
   ]
  },
  {
   "cell_type": "markdown",
   "id": "f5177475",
   "metadata": {},
   "source": [
    "## Creating Training pipeline"
   ]
  },
  {
   "cell_type": "code",
   "execution_count": 282,
   "id": "4002d13e",
   "metadata": {},
   "outputs": [],
   "source": [
    "def training(X_train: pd.DataFrame, y_train: pd.Series):\n",
    "    regr = RandomForestRegressor(max_depth=2, random_state=0)\n",
    "#     regr = AdaBoostRegressor()\n",
    "    model_r = regr.fit(X_train, y_train)\n",
    "    model_score = regr.score(X_train,y_train)\n",
    "    return model_r\n",
    "\n",
    "def model_evaluation(model, y_pred: np.ndarray, y_test: np.ndarray, precision: int = 2) -> float:\n",
    "    rmsle = np.sqrt(mean_squared_log_error(y_test, y_pred))\n",
    "    return round(rmsle, precision)\n",
    "\n",
    "def perform_data_splitting(X: pd.DataFrame, y: pd.Series):\n",
    "    X_train, X_test, y_train, y_test = train_test_split(X,y,test_size=0.2,random_state=42)  \n",
    "    return X_train, X_test, y_train, y_test"
   ]
  },
  {
   "cell_type": "code",
   "execution_count": 283,
   "id": "cd1d5850",
   "metadata": {},
   "outputs": [],
   "source": [
    "def train(path: str , model_path: str) -> dict:\n",
    "    \n",
    "    data_master = final_df\n",
    "    data = data_master.copy()\n",
    "\n",
    "    y = data[\"energy_sum\"]\n",
    "\n",
    "    processed_df = preprocessing_pipeline(final_df)\n",
    "    processed_df = processed_df.drop(labels=[\"energy_sum\"], axis=1)\n",
    "    \n",
    "    X_train, X_test, y_train, y_test = perform_data_splitting(processed_df,y)\n",
    "\n",
    "    model = training(X_train, y_train)\n",
    "\n",
    "    y_predicted = model.predict(X_test)\n",
    "\n",
    "    model_score = model_evaluation(model,y_predicted, y_test)\n",
    "    \n",
    "    model_path = store_model(model,model_path) # Saves the model\n",
    "\n",
    "    return {\"model_performance\": model_score, \"model_path\": model_path}\n"
   ]
  },
  {
   "cell_type": "code",
   "execution_count": 284,
   "id": "a805615d",
   "metadata": {},
   "outputs": [
    {
     "data": {
      "text/html": [
       "<div>\n",
       "<style scoped>\n",
       "    .dataframe tbody tr th:only-of-type {\n",
       "        vertical-align: middle;\n",
       "    }\n",
       "\n",
       "    .dataframe tbody tr th {\n",
       "        vertical-align: top;\n",
       "    }\n",
       "\n",
       "    .dataframe thead th {\n",
       "        text-align: right;\n",
       "    }\n",
       "</style>\n",
       "<table border=\"1\" class=\"dataframe\">\n",
       "  <thead>\n",
       "    <tr style=\"text-align: right;\">\n",
       "      <th></th>\n",
       "      <th>LCLid</th>\n",
       "      <th>day</th>\n",
       "    </tr>\n",
       "  </thead>\n",
       "  <tbody>\n",
       "    <tr>\n",
       "      <th>0</th>\n",
       "      <td>MAC000002</td>\n",
       "      <td>2012-10-13</td>\n",
       "    </tr>\n",
       "    <tr>\n",
       "      <th>1</th>\n",
       "      <td>MAC000246</td>\n",
       "      <td>2012-10-13</td>\n",
       "    </tr>\n",
       "    <tr>\n",
       "      <th>2</th>\n",
       "      <td>MAC000450</td>\n",
       "      <td>2012-10-13</td>\n",
       "    </tr>\n",
       "    <tr>\n",
       "      <th>3</th>\n",
       "      <td>MAC001074</td>\n",
       "      <td>2012-10-13</td>\n",
       "    </tr>\n",
       "    <tr>\n",
       "      <th>4</th>\n",
       "      <td>MAC003223</td>\n",
       "      <td>2012-10-13</td>\n",
       "    </tr>\n",
       "    <tr>\n",
       "      <th>...</th>\n",
       "      <td>...</td>\n",
       "      <td>...</td>\n",
       "    </tr>\n",
       "    <tr>\n",
       "      <th>25565</th>\n",
       "      <td>MAC004387</td>\n",
       "      <td>2012-10-11</td>\n",
       "    </tr>\n",
       "    <tr>\n",
       "      <th>25566</th>\n",
       "      <td>MAC004431</td>\n",
       "      <td>2012-10-11</td>\n",
       "    </tr>\n",
       "    <tr>\n",
       "      <th>25567</th>\n",
       "      <td>MAC004431</td>\n",
       "      <td>2012-10-11</td>\n",
       "    </tr>\n",
       "    <tr>\n",
       "      <th>25568</th>\n",
       "      <td>MAC005492</td>\n",
       "      <td>2012-10-11</td>\n",
       "    </tr>\n",
       "    <tr>\n",
       "      <th>25569</th>\n",
       "      <td>MAC005492</td>\n",
       "      <td>2012-10-11</td>\n",
       "    </tr>\n",
       "  </tbody>\n",
       "</table>\n",
       "<p>25570 rows × 2 columns</p>\n",
       "</div>"
      ],
      "text/plain": [
       "           LCLid         day\n",
       "0      MAC000002  2012-10-13\n",
       "1      MAC000246  2012-10-13\n",
       "2      MAC000450  2012-10-13\n",
       "3      MAC001074  2012-10-13\n",
       "4      MAC003223  2012-10-13\n",
       "...          ...         ...\n",
       "25565  MAC004387  2012-10-11\n",
       "25566  MAC004431  2012-10-11\n",
       "25567  MAC004431  2012-10-11\n",
       "25568  MAC005492  2012-10-11\n",
       "25569  MAC005492  2012-10-11\n",
       "\n",
       "[25570 rows x 2 columns]"
      ]
     },
     "metadata": {},
     "output_type": "display_data"
    },
    {
     "name": "stderr",
     "output_type": "stream",
     "text": [
      "C:\\Users\\sarve\\miniconda3\\envs\\dataProdEnv\\lib\\site-packages\\sklearn\\utils\\validation.py:1673: FutureWarning: Feature names only support names that are all strings. Got feature names with dtypes: ['int', 'str']. An error will be raised in 1.2.\n",
      "  warnings.warn(\n",
      "C:\\Users\\sarve\\miniconda3\\envs\\dataProdEnv\\lib\\site-packages\\sklearn\\utils\\validation.py:1673: FutureWarning: Feature names only support names that are all strings. Got feature names with dtypes: ['int', 'str']. An error will be raised in 1.2.\n",
      "  warnings.warn(\n",
      "C:\\Users\\sarve\\miniconda3\\envs\\dataProdEnv\\lib\\site-packages\\sklearn\\utils\\validation.py:1673: FutureWarning: Feature names only support names that are all strings. Got feature names with dtypes: ['int', 'str']. An error will be raised in 1.2.\n",
      "  warnings.warn(\n"
     ]
    },
    {
     "data": {
      "text/plain": [
       "{'model_performance': 0.69, 'model_path': '../models/model_1.joblib'}"
      ]
     },
     "execution_count": 284,
     "metadata": {},
     "output_type": "execute_result"
    }
   ],
   "source": [
    "train(\"/\",\"../models/\")"
   ]
  },
  {
   "cell_type": "code",
   "execution_count": 285,
   "id": "20ddff44",
   "metadata": {},
   "outputs": [
    {
     "data": {
      "text/html": [
       "<div>\n",
       "<style scoped>\n",
       "    .dataframe tbody tr th:only-of-type {\n",
       "        vertical-align: middle;\n",
       "    }\n",
       "\n",
       "    .dataframe tbody tr th {\n",
       "        vertical-align: top;\n",
       "    }\n",
       "\n",
       "    .dataframe thead th {\n",
       "        text-align: right;\n",
       "    }\n",
       "</style>\n",
       "<table border=\"1\" class=\"dataframe\">\n",
       "  <thead>\n",
       "    <tr style=\"text-align: right;\">\n",
       "      <th></th>\n",
       "      <th>LCLid</th>\n",
       "      <th>day</th>\n",
       "      <th>energy_sum</th>\n",
       "      <th>temperatureMax</th>\n",
       "      <th>temperatureMin</th>\n",
       "    </tr>\n",
       "  </thead>\n",
       "  <tbody>\n",
       "    <tr>\n",
       "      <th>0</th>\n",
       "      <td>MAC000002</td>\n",
       "      <td>2012-10-13</td>\n",
       "      <td>11.087000</td>\n",
       "      <td>11.53</td>\n",
       "      <td>6.41</td>\n",
       "    </tr>\n",
       "    <tr>\n",
       "      <th>1</th>\n",
       "      <td>MAC000246</td>\n",
       "      <td>2012-10-13</td>\n",
       "      <td>19.283000</td>\n",
       "      <td>11.53</td>\n",
       "      <td>6.41</td>\n",
       "    </tr>\n",
       "    <tr>\n",
       "      <th>2</th>\n",
       "      <td>MAC000450</td>\n",
       "      <td>2012-10-13</td>\n",
       "      <td>89.343999</td>\n",
       "      <td>11.53</td>\n",
       "      <td>6.41</td>\n",
       "    </tr>\n",
       "    <tr>\n",
       "      <th>3</th>\n",
       "      <td>MAC001074</td>\n",
       "      <td>2012-10-13</td>\n",
       "      <td>22.727000</td>\n",
       "      <td>11.53</td>\n",
       "      <td>6.41</td>\n",
       "    </tr>\n",
       "    <tr>\n",
       "      <th>4</th>\n",
       "      <td>MAC003223</td>\n",
       "      <td>2012-10-13</td>\n",
       "      <td>19.271000</td>\n",
       "      <td>11.53</td>\n",
       "      <td>6.41</td>\n",
       "    </tr>\n",
       "    <tr>\n",
       "      <th>...</th>\n",
       "      <td>...</td>\n",
       "      <td>...</td>\n",
       "      <td>...</td>\n",
       "      <td>...</td>\n",
       "      <td>...</td>\n",
       "    </tr>\n",
       "    <tr>\n",
       "      <th>25565</th>\n",
       "      <td>MAC004387</td>\n",
       "      <td>2012-10-11</td>\n",
       "      <td>4.758000</td>\n",
       "      <td>14.88</td>\n",
       "      <td>9.15</td>\n",
       "    </tr>\n",
       "    <tr>\n",
       "      <th>25566</th>\n",
       "      <td>MAC004431</td>\n",
       "      <td>2012-10-11</td>\n",
       "      <td>24.459000</td>\n",
       "      <td>14.72</td>\n",
       "      <td>8.51</td>\n",
       "    </tr>\n",
       "    <tr>\n",
       "      <th>25567</th>\n",
       "      <td>MAC004431</td>\n",
       "      <td>2012-10-11</td>\n",
       "      <td>24.459000</td>\n",
       "      <td>14.88</td>\n",
       "      <td>9.15</td>\n",
       "    </tr>\n",
       "    <tr>\n",
       "      <th>25568</th>\n",
       "      <td>MAC005492</td>\n",
       "      <td>2012-10-11</td>\n",
       "      <td>8.771000</td>\n",
       "      <td>14.72</td>\n",
       "      <td>8.51</td>\n",
       "    </tr>\n",
       "    <tr>\n",
       "      <th>25569</th>\n",
       "      <td>MAC005492</td>\n",
       "      <td>2012-10-11</td>\n",
       "      <td>8.771000</td>\n",
       "      <td>14.88</td>\n",
       "      <td>9.15</td>\n",
       "    </tr>\n",
       "  </tbody>\n",
       "</table>\n",
       "<p>25570 rows × 5 columns</p>\n",
       "</div>"
      ],
      "text/plain": [
       "           LCLid         day  energy_sum  temperatureMax  temperatureMin\n",
       "0      MAC000002  2012-10-13   11.087000           11.53            6.41\n",
       "1      MAC000246  2012-10-13   19.283000           11.53            6.41\n",
       "2      MAC000450  2012-10-13   89.343999           11.53            6.41\n",
       "3      MAC001074  2012-10-13   22.727000           11.53            6.41\n",
       "4      MAC003223  2012-10-13   19.271000           11.53            6.41\n",
       "...          ...         ...         ...             ...             ...\n",
       "25565  MAC004387  2012-10-11    4.758000           14.88            9.15\n",
       "25566  MAC004431  2012-10-11   24.459000           14.72            8.51\n",
       "25567  MAC004431  2012-10-11   24.459000           14.88            9.15\n",
       "25568  MAC005492  2012-10-11    8.771000           14.72            8.51\n",
       "25569  MAC005492  2012-10-11    8.771000           14.88            9.15\n",
       "\n",
       "[25570 rows x 5 columns]"
      ]
     },
     "execution_count": 285,
     "metadata": {},
     "output_type": "execute_result"
    }
   ],
   "source": [
    "final_df"
   ]
  },
  {
   "cell_type": "code",
   "execution_count": 286,
   "id": "9742e5b4",
   "metadata": {},
   "outputs": [
    {
     "data": {
      "text/html": [
       "<div>\n",
       "<style scoped>\n",
       "    .dataframe tbody tr th:only-of-type {\n",
       "        vertical-align: middle;\n",
       "    }\n",
       "\n",
       "    .dataframe tbody tr th {\n",
       "        vertical-align: top;\n",
       "    }\n",
       "\n",
       "    .dataframe thead th {\n",
       "        text-align: right;\n",
       "    }\n",
       "</style>\n",
       "<table border=\"1\" class=\"dataframe\">\n",
       "  <thead>\n",
       "    <tr style=\"text-align: right;\">\n",
       "      <th></th>\n",
       "      <th>LCLid</th>\n",
       "      <th>day</th>\n",
       "    </tr>\n",
       "  </thead>\n",
       "  <tbody>\n",
       "    <tr>\n",
       "      <th>0</th>\n",
       "      <td>MAC000258</td>\n",
       "      <td>2020-02-01</td>\n",
       "    </tr>\n",
       "  </tbody>\n",
       "</table>\n",
       "</div>"
      ],
      "text/plain": [
       "       LCLid         day\n",
       "0  MAC000258  2020-02-01"
      ]
     },
     "metadata": {},
     "output_type": "display_data"
    },
    {
     "name": "stderr",
     "output_type": "stream",
     "text": [
      "C:\\Users\\sarve\\miniconda3\\envs\\dataProdEnv\\lib\\site-packages\\sklearn\\utils\\validation.py:1673: FutureWarning: Feature names only support names that are all strings. Got feature names with dtypes: ['int', 'str']. An error will be raised in 1.2.\n",
      "  warnings.warn(\n"
     ]
    },
    {
     "data": {
      "text/plain": [
       "array([18.53987497])"
      ]
     },
     "execution_count": 286,
     "metadata": {},
     "output_type": "execute_result"
    }
   ],
   "source": [
    "from joblib import load\n",
    "model_1 = load(\"../models/model_1.joblib\")\n",
    "user_data = {\"LCLid\": \"MAC000258\", \"day\": \"2020-02-01\",\"temperatureMax\": [11.53], \"temperatureMin\": [10.50]}\n",
    "user_df = pd.DataFrame(data=user_data)\n",
    "\n",
    "processed_df_1 = preprocessing_pipeline(user_df, isInference=True)\n",
    "# processed_df_1 = processed_df_1.drop(labels=[\"energy_sum\"], axis=1)\n",
    "\n",
    "predicted_price = model_1.predict(processed_df_1)\n",
    "predicted_price\n",
    "# processed_df_1 = processed_df_1.reindex(labels=processed_df.columns,axis=1)\n",
    "# processed_df"
   ]
  },
  {
   "cell_type": "code",
   "execution_count": 228,
   "id": "6cb034db",
   "metadata": {},
   "outputs": [],
   "source": [
    "def inference(test_path: str, model_path: str) -> np.ndarray:\n",
    "    data_master = prepare_data(test_path)\n",
    "    data = data_master.copy()\n",
    "#     data = data.drop(labels=[\"day\"], axis=1) # dropping the day column.\n",
    "\n",
    "    processed_df = preprocessing_pipeline(data, isInference=True)\n",
    "    processed_df = processed_df.drop(labels=[\"energy_sum\"], axis=1)\n",
    "\n",
    "    model = load_model(model_path)\n",
    "\n",
    "    predicted_price = model.predict(processed_df)\n",
    "\n",
    "    return predicted_price\n",
    "\n",
    "def prepare_data(filepath):\n",
    "    energy_data = pd.read_csv(filepath)\n",
    "    weather = pd.read_csv(\"../data/weather_dataset/weather_daily_darksky.csv\")\n",
    "\n",
    "    energy_data = energy_data.drop([\"energy_median\",\"energy_mean\", \"energy_max\", \"energy_count\", \"energy_std\", \"energy_min\"], axis=1)\n",
    "    new_weather = weather[[\"temperatureMaxTime\",\"temperatureMax\",\"temperatureMin\"]]\n",
    "\n",
    "    energy_data[\"day\"] = pd.to_datetime(energy_data[\"day\"])\n",
    "    energy_data[\"day\"] = energy_data[\"day\"].dt.date # gets all the date\n",
    "\n",
    "\n",
    "    new_weather[\"temperatureMaxTime\"] = pd.to_datetime(new_weather[\"temperatureMaxTime\"])\n",
    "    new_weather[\"day\"] = new_weather[\"temperatureMaxTime\"].dt.date\n",
    "    new_weather[\"day\"] = new_weather[\"day\"].sort_values()\n",
    "\n",
    "    final_df = energy_data.merge(right=new_weather, how=\"inner\")\n",
    "    final_df = final_df.drop([\"temperatureMaxTime\"], axis=1)\n",
    "    return final_df"
   ]
  },
  {
   "cell_type": "code",
   "execution_count": 229,
   "id": "d4b79dca",
   "metadata": {},
   "outputs": [
    {
     "name": "stderr",
     "output_type": "stream",
     "text": [
      "C:\\Users\\sarve\\AppData\\Roaming\\Python\\Python39\\site-packages\\pandas\\core\\frame.py:3607: SettingWithCopyWarning: \n",
      "A value is trying to be set on a copy of a slice from a DataFrame.\n",
      "Try using .loc[row_indexer,col_indexer] = value instead\n",
      "\n",
      "See the caveats in the documentation: https://pandas.pydata.org/pandas-docs/stable/user_guide/indexing.html#returning-a-view-versus-a-copy\n",
      "  self._set_item(key, value)\n"
     ]
    },
    {
     "data": {
      "text/html": [
       "<div>\n",
       "<style scoped>\n",
       "    .dataframe tbody tr th:only-of-type {\n",
       "        vertical-align: middle;\n",
       "    }\n",
       "\n",
       "    .dataframe tbody tr th {\n",
       "        vertical-align: top;\n",
       "    }\n",
       "\n",
       "    .dataframe thead th {\n",
       "        text-align: right;\n",
       "    }\n",
       "</style>\n",
       "<table border=\"1\" class=\"dataframe\">\n",
       "  <thead>\n",
       "    <tr style=\"text-align: right;\">\n",
       "      <th></th>\n",
       "      <th>LCLid</th>\n",
       "      <th>day</th>\n",
       "    </tr>\n",
       "  </thead>\n",
       "  <tbody>\n",
       "    <tr>\n",
       "      <th>0</th>\n",
       "      <td>MAC000002</td>\n",
       "      <td>2012-10-13</td>\n",
       "    </tr>\n",
       "    <tr>\n",
       "      <th>1</th>\n",
       "      <td>MAC000246</td>\n",
       "      <td>2012-10-13</td>\n",
       "    </tr>\n",
       "    <tr>\n",
       "      <th>2</th>\n",
       "      <td>MAC000450</td>\n",
       "      <td>2012-10-13</td>\n",
       "    </tr>\n",
       "    <tr>\n",
       "      <th>3</th>\n",
       "      <td>MAC001074</td>\n",
       "      <td>2012-10-13</td>\n",
       "    </tr>\n",
       "    <tr>\n",
       "      <th>4</th>\n",
       "      <td>MAC003223</td>\n",
       "      <td>2012-10-13</td>\n",
       "    </tr>\n",
       "    <tr>\n",
       "      <th>...</th>\n",
       "      <td>...</td>\n",
       "      <td>...</td>\n",
       "    </tr>\n",
       "    <tr>\n",
       "      <th>25565</th>\n",
       "      <td>MAC004387</td>\n",
       "      <td>2012-10-11</td>\n",
       "    </tr>\n",
       "    <tr>\n",
       "      <th>25566</th>\n",
       "      <td>MAC004431</td>\n",
       "      <td>2012-10-11</td>\n",
       "    </tr>\n",
       "    <tr>\n",
       "      <th>25567</th>\n",
       "      <td>MAC004431</td>\n",
       "      <td>2012-10-11</td>\n",
       "    </tr>\n",
       "    <tr>\n",
       "      <th>25568</th>\n",
       "      <td>MAC005492</td>\n",
       "      <td>2012-10-11</td>\n",
       "    </tr>\n",
       "    <tr>\n",
       "      <th>25569</th>\n",
       "      <td>MAC005492</td>\n",
       "      <td>2012-10-11</td>\n",
       "    </tr>\n",
       "  </tbody>\n",
       "</table>\n",
       "<p>25570 rows × 2 columns</p>\n",
       "</div>"
      ],
      "text/plain": [
       "           LCLid         day\n",
       "0      MAC000002  2012-10-13\n",
       "1      MAC000246  2012-10-13\n",
       "2      MAC000450  2012-10-13\n",
       "3      MAC001074  2012-10-13\n",
       "4      MAC003223  2012-10-13\n",
       "...          ...         ...\n",
       "25565  MAC004387  2012-10-11\n",
       "25566  MAC004431  2012-10-11\n",
       "25567  MAC004431  2012-10-11\n",
       "25568  MAC005492  2012-10-11\n",
       "25569  MAC005492  2012-10-11\n",
       "\n",
       "[25570 rows x 2 columns]"
      ]
     },
     "metadata": {},
     "output_type": "display_data"
    },
    {
     "name": "stdout",
     "output_type": "stream",
     "text": [
      "[18.53987497 18.53987497 72.27449164 ... 18.53987497 18.53987497\n",
      " 18.53987497]\n"
     ]
    },
    {
     "name": "stderr",
     "output_type": "stream",
     "text": [
      "C:\\Users\\sarve\\miniconda3\\envs\\dataProdEnv\\lib\\site-packages\\sklearn\\utils\\validation.py:1673: FutureWarning: Feature names only support names that are all strings. Got feature names with dtypes: ['int', 'str']. An error will be raised in 1.2.\n",
      "  warnings.warn(\n"
     ]
    }
   ],
   "source": [
    "production_values = inference(\"../data/daily_dataset/block_0.csv\", \"../models/model_1.joblib\")\n",
    "print(production_values)"
   ]
  },
  {
   "cell_type": "code",
   "execution_count": 232,
   "id": "0c4eff21",
   "metadata": {},
   "outputs": [
    {
     "data": {
      "text/plain": [
       "50"
      ]
     },
     "execution_count": 232,
     "metadata": {},
     "output_type": "execute_result"
    }
   ],
   "source": [
    "len(set(production_values))"
   ]
  },
  {
   "cell_type": "code",
   "execution_count": null,
   "id": "97e153b1",
   "metadata": {},
   "outputs": [],
   "source": []
  },
  {
   "cell_type": "code",
   "execution_count": null,
   "id": "9c9b9b3b",
   "metadata": {},
   "outputs": [],
   "source": []
  },
  {
   "cell_type": "code",
   "execution_count": null,
   "id": "7d262a96",
   "metadata": {},
   "outputs": [],
   "source": []
  },
  {
   "cell_type": "code",
   "execution_count": 69,
   "id": "2be38332",
   "metadata": {},
   "outputs": [
    {
     "name": "stdout",
     "output_type": "stream",
     "text": [
      "<class 'pandas.core.frame.DataFrame'>\n"
     ]
    },
    {
     "name": "stderr",
     "output_type": "stream",
     "text": [
      "C:\\Users\\sarve\\miniconda3\\envs\\dataProdEnv\\lib\\site-packages\\sklearn\\base.py:484: FutureWarning: The feature names should match those that were passed during fit. Starting version 1.2, an error will be raised.\n",
      "Feature names unseen at fit time:\n",
      "- temperatureMax\n",
      "- temperatureMin\n",
      "Feature names must be in the same order as they were in fit.\n",
      "\n",
      "  warnings.warn(message, FutureWarning)\n"
     ]
    },
    {
     "ename": "ValueError",
     "evalue": "X has 4 features, but OneHotEncoder is expecting 2 features as input.",
     "output_type": "error",
     "traceback": [
      "\u001b[1;31m---------------------------------------------------------------------------\u001b[0m",
      "\u001b[1;31mValueError\u001b[0m                                Traceback (most recent call last)",
      "\u001b[1;32m~\\AppData\\Local\\Temp/ipykernel_32272/3435268691.py\u001b[0m in \u001b[0;36m<module>\u001b[1;34m\u001b[0m\n\u001b[0;32m      1\u001b[0m \u001b[0mtestdata\u001b[0m \u001b[1;33m=\u001b[0m \u001b[0mfinal_df\u001b[0m\u001b[1;33m.\u001b[0m\u001b[0mdrop\u001b[0m\u001b[1;33m(\u001b[0m\u001b[0mlabels\u001b[0m\u001b[1;33m=\u001b[0m\u001b[1;34m\"energy_sum\"\u001b[0m\u001b[1;33m,\u001b[0m \u001b[0maxis\u001b[0m\u001b[1;33m=\u001b[0m\u001b[1;36m1\u001b[0m\u001b[1;33m)\u001b[0m\u001b[1;33m\u001b[0m\u001b[1;33m\u001b[0m\u001b[0m\n\u001b[0;32m      2\u001b[0m \u001b[0mprint\u001b[0m\u001b[1;33m(\u001b[0m\u001b[0mtype\u001b[0m\u001b[1;33m(\u001b[0m\u001b[0mtestdata\u001b[0m\u001b[1;33m)\u001b[0m\u001b[1;33m)\u001b[0m\u001b[1;33m\u001b[0m\u001b[1;33m\u001b[0m\u001b[0m\n\u001b[1;32m----> 3\u001b[1;33m \u001b[0mtransformed_data\u001b[0m \u001b[1;33m=\u001b[0m \u001b[0mencoder_model\u001b[0m\u001b[1;33m.\u001b[0m\u001b[0mtransform\u001b[0m\u001b[1;33m(\u001b[0m\u001b[0mtestdata\u001b[0m\u001b[1;33m)\u001b[0m\u001b[1;33m\u001b[0m\u001b[1;33m\u001b[0m\u001b[0m\n\u001b[0m\u001b[0;32m      4\u001b[0m \u001b[0mtransformed_arr\u001b[0m \u001b[1;33m=\u001b[0m \u001b[0mtransformed_data\u001b[0m\u001b[1;33m.\u001b[0m\u001b[0mtoarray\u001b[0m\u001b[1;33m(\u001b[0m\u001b[1;33m)\u001b[0m\u001b[1;33m\u001b[0m\u001b[1;33m\u001b[0m\u001b[0m\n\u001b[0;32m      5\u001b[0m \u001b[1;31m# processed_df = preprocessing_pipeline(tra)\u001b[0m\u001b[1;33m\u001b[0m\u001b[1;33m\u001b[0m\u001b[0m\n",
      "\u001b[1;32m~\\miniconda3\\envs\\dataProdEnv\\lib\\site-packages\\sklearn\\preprocessing\\_encoders.py\u001b[0m in \u001b[0;36mtransform\u001b[1;34m(self, X)\u001b[0m\n\u001b[0;32m    507\u001b[0m         \u001b[1;31m# validation of X happens in _check_X called by _transform\u001b[0m\u001b[1;33m\u001b[0m\u001b[1;33m\u001b[0m\u001b[0m\n\u001b[0;32m    508\u001b[0m         \u001b[0mwarn_on_unknown\u001b[0m \u001b[1;33m=\u001b[0m \u001b[0mself\u001b[0m\u001b[1;33m.\u001b[0m\u001b[0mhandle_unknown\u001b[0m \u001b[1;33m==\u001b[0m \u001b[1;34m\"ignore\"\u001b[0m \u001b[1;32mand\u001b[0m \u001b[0mself\u001b[0m\u001b[1;33m.\u001b[0m\u001b[0mdrop\u001b[0m \u001b[1;32mis\u001b[0m \u001b[1;32mnot\u001b[0m \u001b[1;32mNone\u001b[0m\u001b[1;33m\u001b[0m\u001b[1;33m\u001b[0m\u001b[0m\n\u001b[1;32m--> 509\u001b[1;33m         X_int, X_mask = self._transform(\n\u001b[0m\u001b[0;32m    510\u001b[0m             \u001b[0mX\u001b[0m\u001b[1;33m,\u001b[0m\u001b[1;33m\u001b[0m\u001b[1;33m\u001b[0m\u001b[0m\n\u001b[0;32m    511\u001b[0m             \u001b[0mhandle_unknown\u001b[0m\u001b[1;33m=\u001b[0m\u001b[0mself\u001b[0m\u001b[1;33m.\u001b[0m\u001b[0mhandle_unknown\u001b[0m\u001b[1;33m,\u001b[0m\u001b[1;33m\u001b[0m\u001b[1;33m\u001b[0m\u001b[0m\n",
      "\u001b[1;32m~\\miniconda3\\envs\\dataProdEnv\\lib\\site-packages\\sklearn\\preprocessing\\_encoders.py\u001b[0m in \u001b[0;36m_transform\u001b[1;34m(self, X, handle_unknown, force_all_finite, warn_on_unknown)\u001b[0m\n\u001b[0;32m    121\u001b[0m     ):\n\u001b[0;32m    122\u001b[0m         \u001b[0mself\u001b[0m\u001b[1;33m.\u001b[0m\u001b[0m_check_feature_names\u001b[0m\u001b[1;33m(\u001b[0m\u001b[0mX\u001b[0m\u001b[1;33m,\u001b[0m \u001b[0mreset\u001b[0m\u001b[1;33m=\u001b[0m\u001b[1;32mFalse\u001b[0m\u001b[1;33m)\u001b[0m\u001b[1;33m\u001b[0m\u001b[1;33m\u001b[0m\u001b[0m\n\u001b[1;32m--> 123\u001b[1;33m         \u001b[0mself\u001b[0m\u001b[1;33m.\u001b[0m\u001b[0m_check_n_features\u001b[0m\u001b[1;33m(\u001b[0m\u001b[0mX\u001b[0m\u001b[1;33m,\u001b[0m \u001b[0mreset\u001b[0m\u001b[1;33m=\u001b[0m\u001b[1;32mFalse\u001b[0m\u001b[1;33m)\u001b[0m\u001b[1;33m\u001b[0m\u001b[1;33m\u001b[0m\u001b[0m\n\u001b[0m\u001b[0;32m    124\u001b[0m         X_list, n_samples, n_features = self._check_X(\n\u001b[0;32m    125\u001b[0m             \u001b[0mX\u001b[0m\u001b[1;33m,\u001b[0m \u001b[0mforce_all_finite\u001b[0m\u001b[1;33m=\u001b[0m\u001b[0mforce_all_finite\u001b[0m\u001b[1;33m\u001b[0m\u001b[1;33m\u001b[0m\u001b[0m\n",
      "\u001b[1;32m~\\miniconda3\\envs\\dataProdEnv\\lib\\site-packages\\sklearn\\base.py\u001b[0m in \u001b[0;36m_check_n_features\u001b[1;34m(self, X, reset)\u001b[0m\n\u001b[0;32m    393\u001b[0m \u001b[1;33m\u001b[0m\u001b[0m\n\u001b[0;32m    394\u001b[0m         \u001b[1;32mif\u001b[0m \u001b[0mn_features\u001b[0m \u001b[1;33m!=\u001b[0m \u001b[0mself\u001b[0m\u001b[1;33m.\u001b[0m\u001b[0mn_features_in_\u001b[0m\u001b[1;33m:\u001b[0m\u001b[1;33m\u001b[0m\u001b[1;33m\u001b[0m\u001b[0m\n\u001b[1;32m--> 395\u001b[1;33m             raise ValueError(\n\u001b[0m\u001b[0;32m    396\u001b[0m                 \u001b[1;34mf\"X has {n_features} features, but {self.__class__.__name__} \"\u001b[0m\u001b[1;33m\u001b[0m\u001b[1;33m\u001b[0m\u001b[0m\n\u001b[0;32m    397\u001b[0m                 \u001b[1;34mf\"is expecting {self.n_features_in_} features as input.\"\u001b[0m\u001b[1;33m\u001b[0m\u001b[1;33m\u001b[0m\u001b[0m\n",
      "\u001b[1;31mValueError\u001b[0m: X has 4 features, but OneHotEncoder is expecting 2 features as input."
     ]
    }
   ],
   "source": [
    "testdata = final_df.drop(labels=\"energy_sum\", axis=1)\n",
    "print(type(testdata))\n",
    "transformed_data = encoder_model.transform(testdata)\n",
    "transformed_arr = transformed_data.toarray()\n",
    "# processed_df = preprocessing_pipeline(tra)\n",
    "print(type(testdata.iloc[0]))"
   ]
  },
  {
   "cell_type": "code",
   "execution_count": 51,
   "id": "1e37203d",
   "metadata": {},
   "outputs": [
    {
     "name": "stderr",
     "output_type": "stream",
     "text": [
      "C:\\Users\\sarve\\miniconda3\\envs\\dataProdEnv\\lib\\site-packages\\sklearn\\utils\\validation.py:1673: FutureWarning: Feature names only support names that are all strings. Got feature names with dtypes: ['int', 'str']. An error will be raised in 1.2.\n",
      "  warnings.warn(\n"
     ]
    },
    {
     "data": {
      "text/plain": [
       "array([18.53987497, 18.53987497, 72.27449164, ..., 18.53987497,\n",
       "       18.53987497, 18.53987497])"
      ]
     },
     "execution_count": 51,
     "metadata": {},
     "output_type": "execute_result"
    }
   ],
   "source": [
    "model.predict(processed_df)"
   ]
  },
  {
   "cell_type": "code",
   "execution_count": null,
   "id": "79e031da",
   "metadata": {},
   "outputs": [],
   "source": []
  },
  {
   "cell_type": "markdown",
   "id": "00c373c9",
   "metadata": {},
   "source": [
    "## Testing ARIMA Models"
   ]
  },
  {
   "cell_type": "code",
   "execution_count": 192,
   "id": "692ed65c",
   "metadata": {
    "scrolled": true
   },
   "outputs": [],
   "source": [
    "pos_X = final_df[final_df[\"LCLid\"]==\"MAC000002\"][\"energy_sum\"]"
   ]
  },
  {
   "cell_type": "code",
   "execution_count": 193,
   "id": "d08790b3",
   "metadata": {},
   "outputs": [
    {
     "data": {
      "image/png": "[encoded data removed]",
      "text/plain": [
       "<Figure size 432x288 with 1 Axes>"
      ]
     },
     "execution_count": 193,
     "metadata": {},
     "output_type": "execute_result"
    },
    {
     "data": {
      "image/png": "[encoded data removed]",
      "text/plain": [
       "<Figure size 432x288 with 1 Axes>"
      ]
     },
     "metadata": {
      "needs_background": "light"
     },
     "output_type": "display_data"
    }
   ],
   "source": [
    "# We have to convert the series into stationary otherwise we cannot perform timeseries analysis\n",
    "from statsmodels.graphics.tsaplots import plot_acf\n",
    "plot_acf(final_df[\"energy_sum\"])"
   ]
  },
  {
   "cell_type": "code",
   "execution_count": 194,
   "id": "6428f358",
   "metadata": {},
   "outputs": [
    {
     "data": {
      "image/png": "[encoded data removed]",
      "text/plain": [
       "<Figure size 432x288 with 1 Axes>"
      ]
     },
     "execution_count": 194,
     "metadata": {},
     "output_type": "execute_result"
    },
    {
     "data": {
      "image/png": "[encoded data removed]",
      "text/plain": [
       "<Figure size 432x288 with 1 Axes>"
      ]
     },
     "metadata": {
      "needs_background": "light"
     },
     "output_type": "display_data"
    }
   ],
   "source": [
    "plot_acf(final_df[\"temperatureMax\"]) # This is not stationary"
   ]
  },
  {
   "cell_type": "code",
   "execution_count": 195,
   "id": "2f888d48",
   "metadata": {},
   "outputs": [
    {
     "data": {
      "image/png": "[encoded data removed]",
      "text/plain": [
       "<Figure size 432x288 with 1 Axes>"
      ]
     },
     "execution_count": 195,
     "metadata": {},
     "output_type": "execute_result"
    },
    {
     "data": {
      "image/png": "[encoded data removed]",
      "text/plain": [
       "<Figure size 432x288 with 1 Axes>"
      ]
     },
     "metadata": {
      "needs_background": "light"
     },
     "output_type": "display_data"
    }
   ],
   "source": [
    "plot_acf(final_df[\"temperatureMin\"]) # this is not stationary"
   ]
  },
  {
   "cell_type": "code",
   "execution_count": 196,
   "id": "b17f9ba3",
   "metadata": {},
   "outputs": [],
   "source": [
    "X = pos_X\n",
    "train_data = pos_X[:450]\n",
    "test = pos_X[450:]"
   ]
  },
  {
   "cell_type": "code",
   "execution_count": 197,
   "id": "8103506a",
   "metadata": {},
   "outputs": [
    {
     "name": "stderr",
     "output_type": "stream",
     "text": [
      "C:\\Users\\sarve\\miniconda3\\envs\\dataProdEnv\\lib\\site-packages\\statsmodels\\tsa\\base\\tsa_model.py:593: ValueWarning: A date index has been provided, but it has no associated frequency information and so will be ignored when e.g. forecasting.\n",
      "  warnings.warn('A date index has been provided, but it has no'\n"
     ]
    }
   ],
   "source": [
    "from statsmodels.tsa.ar_model import AutoReg\n",
    "from sklearn.metrics import mean_squared_error\n",
    "\n",
    "model_ar = AutoReg(train_data, lags=2)\n",
    "model_ar_fit = model_ar.fit()"
   ]
  },
  {
   "cell_type": "code",
   "execution_count": 198,
   "id": "728759d6",
   "metadata": {},
   "outputs": [
    {
     "name": "stderr",
     "output_type": "stream",
     "text": [
      "C:\\Users\\sarve\\miniconda3\\envs\\dataProdEnv\\lib\\site-packages\\statsmodels\\tsa\\base\\tsa_model.py:390: ValueWarning: No supported index is available. Prediction results will be given with an integer index beginning at `start`.\n",
      "  warnings.warn('No supported index is available.'\n",
      "C:\\Users\\sarve\\miniconda3\\envs\\dataProdEnv\\lib\\site-packages\\statsmodels\\tsa\\deterministic.py:152: UserWarning: Only PeriodIndexes, DatetimeIndexes with a frequency set, RangesIndexes, and NumericIndex with a unit increment support extending. The index is set will contain the position relative to the data length.\n",
      "  warnings.warn(\n"
     ]
    }
   ],
   "source": [
    "predictions = model_ar_fit.predict(start=450, end=504)"
   ]
  },
  {
   "cell_type": "code",
   "execution_count": 199,
   "id": "62ee5114",
   "metadata": {},
   "outputs": [
    {
     "data": {
      "text/plain": [
       "[<matplotlib.lines.Line2D at 0x258a48efa60>]"
      ]
     },
     "execution_count": 199,
     "metadata": {},
     "output_type": "execute_result"
    },
    {
     "data": {
      "image/png": "[encoded data removed]",
      "text/plain": [
       "<Figure size 432x288 with 1 Axes>"
      ]
     },
     "metadata": {
      "needs_background": "light"
     },
     "output_type": "display_data"
    }
   ],
   "source": [
    "import matplotlib.pyplot as plt\n",
    "plt.plot(test)\n",
    "plt.plot(predictions, color=\"red\")"
   ]
  },
  {
   "cell_type": "code",
   "execution_count": 200,
   "id": "6695638f",
   "metadata": {},
   "outputs": [],
   "source": [
    "from statsmodels.tsa.arima.model import ARIMA"
   ]
  },
  {
   "cell_type": "code",
   "execution_count": 201,
   "id": "6dc832c5",
   "metadata": {},
   "outputs": [
    {
     "name": "stderr",
     "output_type": "stream",
     "text": [
      "C:\\Users\\sarve\\miniconda3\\envs\\dataProdEnv\\lib\\site-packages\\statsmodels\\tsa\\base\\tsa_model.py:593: ValueWarning: A date index has been provided, but it has no associated frequency information and so will be ignored when e.g. forecasting.\n",
      "  warnings.warn('A date index has been provided, but it has no'\n",
      "C:\\Users\\sarve\\miniconda3\\envs\\dataProdEnv\\lib\\site-packages\\statsmodels\\tsa\\base\\tsa_model.py:593: ValueWarning: A date index has been provided, but it has no associated frequency information and so will be ignored when e.g. forecasting.\n",
      "  warnings.warn('A date index has been provided, but it has no'\n",
      "C:\\Users\\sarve\\miniconda3\\envs\\dataProdEnv\\lib\\site-packages\\statsmodels\\tsa\\base\\tsa_model.py:593: ValueWarning: A date index has been provided, but it has no associated frequency information and so will be ignored when e.g. forecasting.\n",
      "  warnings.warn('A date index has been provided, but it has no'\n"
     ]
    }
   ],
   "source": [
    "# p,d,q p=periods taken for Ar model.\n",
    "# d is the order of integration order.\n",
    "# q periods on the moving average\n",
    "model_arima = ARIMA(train_data, order=(1,1,1))\n",
    "model_arima_fit = model_arima.fit()"
   ]
  },
  {
   "cell_type": "code",
   "execution_count": 202,
   "id": "163d0c03",
   "metadata": {},
   "outputs": [
    {
     "name": "stderr",
     "output_type": "stream",
     "text": [
      "C:\\Users\\sarve\\miniconda3\\envs\\dataProdEnv\\lib\\site-packages\\statsmodels\\tsa\\base\\tsa_model.py:390: ValueWarning: No supported index is available. Prediction results will be given with an integer index beginning at `start`.\n",
      "  warnings.warn('No supported index is available.'\n"
     ]
    }
   ],
   "source": [
    "predictions = model_arima_fit.forecast(steps=5000)"
   ]
  },
  {
   "cell_type": "code",
   "execution_count": 203,
   "id": "d743c714",
   "metadata": {},
   "outputs": [
    {
     "data": {
      "text/plain": [
       "450     13.516038\n",
       "451     13.083691\n",
       "452     12.876450\n",
       "453     12.777110\n",
       "454     12.729493\n",
       "          ...    \n",
       "5445    12.685654\n",
       "5446    12.685654\n",
       "5447    12.685654\n",
       "5448    12.685654\n",
       "5449    12.685654\n",
       "Name: predicted_mean, Length: 5000, dtype: float64"
      ]
     },
     "execution_count": 203,
     "metadata": {},
     "output_type": "execute_result"
    }
   ],
   "source": [
    "predictions"
   ]
  },
  {
   "cell_type": "code",
   "execution_count": 204,
   "id": "583229d4",
   "metadata": {
    "scrolled": true
   },
   "outputs": [
    {
     "ename": "KeyError",
     "evalue": "'energy_sum'",
     "output_type": "error",
     "traceback": [
      "\u001b[1;31m---------------------------------------------------------------------------\u001b[0m",
      "\u001b[1;31mKeyError\u001b[0m                                  Traceback (most recent call last)",
      "\u001b[1;32m~\\miniconda3\\envs\\dataProdEnv\\lib\\site-packages\\pandas\\core\\indexes\\base.py\u001b[0m in \u001b[0;36mget_loc\u001b[1;34m(self, key, method, tolerance)\u001b[0m\n\u001b[0;32m   3360\u001b[0m             \u001b[1;32mtry\u001b[0m\u001b[1;33m:\u001b[0m\u001b[1;33m\u001b[0m\u001b[1;33m\u001b[0m\u001b[0m\n\u001b[1;32m-> 3361\u001b[1;33m                 \u001b[1;32mreturn\u001b[0m \u001b[0mself\u001b[0m\u001b[1;33m.\u001b[0m\u001b[0m_engine\u001b[0m\u001b[1;33m.\u001b[0m\u001b[0mget_loc\u001b[0m\u001b[1;33m(\u001b[0m\u001b[0mcasted_key\u001b[0m\u001b[1;33m)\u001b[0m\u001b[1;33m\u001b[0m\u001b[1;33m\u001b[0m\u001b[0m\n\u001b[0m\u001b[0;32m   3362\u001b[0m             \u001b[1;32mexcept\u001b[0m \u001b[0mKeyError\u001b[0m \u001b[1;32mas\u001b[0m \u001b[0merr\u001b[0m\u001b[1;33m:\u001b[0m\u001b[1;33m\u001b[0m\u001b[1;33m\u001b[0m\u001b[0m\n",
      "\u001b[1;32m~\\miniconda3\\envs\\dataProdEnv\\lib\\site-packages\\pandas\\_libs\\index.pyx\u001b[0m in \u001b[0;36mpandas._libs.index.IndexEngine.get_loc\u001b[1;34m()\u001b[0m\n",
      "\u001b[1;32m~\\miniconda3\\envs\\dataProdEnv\\lib\\site-packages\\pandas\\_libs\\index.pyx\u001b[0m in \u001b[0;36mpandas._libs.index.IndexEngine.get_loc\u001b[1;34m()\u001b[0m\n",
      "\u001b[1;32mpandas\\_libs\\hashtable_class_helper.pxi\u001b[0m in \u001b[0;36mpandas._libs.hashtable.PyObjectHashTable.get_item\u001b[1;34m()\u001b[0m\n",
      "\u001b[1;32mpandas\\_libs\\hashtable_class_helper.pxi\u001b[0m in \u001b[0;36mpandas._libs.hashtable.PyObjectHashTable.get_item\u001b[1;34m()\u001b[0m\n",
      "\u001b[1;31mKeyError\u001b[0m: 'energy_sum'",
      "\nThe above exception was the direct cause of the following exception:\n",
      "\u001b[1;31mKeyError\u001b[0m                                  Traceback (most recent call last)",
      "\u001b[1;32m~\\AppData\\Local\\Temp/ipykernel_16980/3854460172.py\u001b[0m in \u001b[0;36m<module>\u001b[1;34m\u001b[0m\n\u001b[0;32m      1\u001b[0m \u001b[0mplt\u001b[0m\u001b[1;33m.\u001b[0m\u001b[0mplot\u001b[0m\u001b[1;33m(\u001b[0m\u001b[0mtest\u001b[0m\u001b[1;33m)\u001b[0m\u001b[1;33m\u001b[0m\u001b[1;33m\u001b[0m\u001b[0m\n\u001b[0;32m      2\u001b[0m \u001b[0mplt\u001b[0m\u001b[1;33m.\u001b[0m\u001b[0mplot\u001b[0m\u001b[1;33m(\u001b[0m\u001b[0mpredictions\u001b[0m\u001b[1;33m,\u001b[0m \u001b[0mcolor\u001b[0m\u001b[1;33m=\u001b[0m\u001b[1;34m\"red\"\u001b[0m\u001b[1;33m)\u001b[0m\u001b[1;33m\u001b[0m\u001b[1;33m\u001b[0m\u001b[0m\n\u001b[1;32m----> 3\u001b[1;33m \u001b[0mtest\u001b[0m\u001b[1;33m[\u001b[0m\u001b[1;34m\"energy_sum\"\u001b[0m\u001b[1;33m]\u001b[0m\u001b[1;33m.\u001b[0m\u001b[0mmin\u001b[0m\u001b[1;33m(\u001b[0m\u001b[1;33m)\u001b[0m\u001b[1;33m\u001b[0m\u001b[1;33m\u001b[0m\u001b[0m\n\u001b[0m",
      "\u001b[1;32m~\\miniconda3\\envs\\dataProdEnv\\lib\\site-packages\\pandas\\core\\series.py\u001b[0m in \u001b[0;36m__getitem__\u001b[1;34m(self, key)\u001b[0m\n\u001b[0;32m    940\u001b[0m \u001b[1;33m\u001b[0m\u001b[0m\n\u001b[0;32m    941\u001b[0m         \u001b[1;32melif\u001b[0m \u001b[0mkey_is_scalar\u001b[0m\u001b[1;33m:\u001b[0m\u001b[1;33m\u001b[0m\u001b[1;33m\u001b[0m\u001b[0m\n\u001b[1;32m--> 942\u001b[1;33m             \u001b[1;32mreturn\u001b[0m \u001b[0mself\u001b[0m\u001b[1;33m.\u001b[0m\u001b[0m_get_value\u001b[0m\u001b[1;33m(\u001b[0m\u001b[0mkey\u001b[0m\u001b[1;33m)\u001b[0m\u001b[1;33m\u001b[0m\u001b[1;33m\u001b[0m\u001b[0m\n\u001b[0m\u001b[0;32m    943\u001b[0m \u001b[1;33m\u001b[0m\u001b[0m\n\u001b[0;32m    944\u001b[0m         \u001b[1;32mif\u001b[0m \u001b[0mis_hashable\u001b[0m\u001b[1;33m(\u001b[0m\u001b[0mkey\u001b[0m\u001b[1;33m)\u001b[0m\u001b[1;33m:\u001b[0m\u001b[1;33m\u001b[0m\u001b[1;33m\u001b[0m\u001b[0m\n",
      "\u001b[1;32m~\\miniconda3\\envs\\dataProdEnv\\lib\\site-packages\\pandas\\core\\series.py\u001b[0m in \u001b[0;36m_get_value\u001b[1;34m(self, label, takeable)\u001b[0m\n\u001b[0;32m   1049\u001b[0m \u001b[1;33m\u001b[0m\u001b[0m\n\u001b[0;32m   1050\u001b[0m         \u001b[1;31m# Similar to Index.get_value, but we do not fall back to positional\u001b[0m\u001b[1;33m\u001b[0m\u001b[1;33m\u001b[0m\u001b[0m\n\u001b[1;32m-> 1051\u001b[1;33m         \u001b[0mloc\u001b[0m \u001b[1;33m=\u001b[0m \u001b[0mself\u001b[0m\u001b[1;33m.\u001b[0m\u001b[0mindex\u001b[0m\u001b[1;33m.\u001b[0m\u001b[0mget_loc\u001b[0m\u001b[1;33m(\u001b[0m\u001b[0mlabel\u001b[0m\u001b[1;33m)\u001b[0m\u001b[1;33m\u001b[0m\u001b[1;33m\u001b[0m\u001b[0m\n\u001b[0m\u001b[0;32m   1052\u001b[0m         \u001b[1;32mreturn\u001b[0m \u001b[0mself\u001b[0m\u001b[1;33m.\u001b[0m\u001b[0mindex\u001b[0m\u001b[1;33m.\u001b[0m\u001b[0m_get_values_for_loc\u001b[0m\u001b[1;33m(\u001b[0m\u001b[0mself\u001b[0m\u001b[1;33m,\u001b[0m \u001b[0mloc\u001b[0m\u001b[1;33m,\u001b[0m \u001b[0mlabel\u001b[0m\u001b[1;33m)\u001b[0m\u001b[1;33m\u001b[0m\u001b[1;33m\u001b[0m\u001b[0m\n\u001b[0;32m   1053\u001b[0m \u001b[1;33m\u001b[0m\u001b[0m\n",
      "\u001b[1;32m~\\miniconda3\\envs\\dataProdEnv\\lib\\site-packages\\pandas\\core\\indexes\\base.py\u001b[0m in \u001b[0;36mget_loc\u001b[1;34m(self, key, method, tolerance)\u001b[0m\n\u001b[0;32m   3361\u001b[0m                 \u001b[1;32mreturn\u001b[0m \u001b[0mself\u001b[0m\u001b[1;33m.\u001b[0m\u001b[0m_engine\u001b[0m\u001b[1;33m.\u001b[0m\u001b[0mget_loc\u001b[0m\u001b[1;33m(\u001b[0m\u001b[0mcasted_key\u001b[0m\u001b[1;33m)\u001b[0m\u001b[1;33m\u001b[0m\u001b[1;33m\u001b[0m\u001b[0m\n\u001b[0;32m   3362\u001b[0m             \u001b[1;32mexcept\u001b[0m \u001b[0mKeyError\u001b[0m \u001b[1;32mas\u001b[0m \u001b[0merr\u001b[0m\u001b[1;33m:\u001b[0m\u001b[1;33m\u001b[0m\u001b[1;33m\u001b[0m\u001b[0m\n\u001b[1;32m-> 3363\u001b[1;33m                 \u001b[1;32mraise\u001b[0m \u001b[0mKeyError\u001b[0m\u001b[1;33m(\u001b[0m\u001b[0mkey\u001b[0m\u001b[1;33m)\u001b[0m \u001b[1;32mfrom\u001b[0m \u001b[0merr\u001b[0m\u001b[1;33m\u001b[0m\u001b[1;33m\u001b[0m\u001b[0m\n\u001b[0m\u001b[0;32m   3364\u001b[0m \u001b[1;33m\u001b[0m\u001b[0m\n\u001b[0;32m   3365\u001b[0m         \u001b[1;32mif\u001b[0m \u001b[0mis_scalar\u001b[0m\u001b[1;33m(\u001b[0m\u001b[0mkey\u001b[0m\u001b[1;33m)\u001b[0m \u001b[1;32mand\u001b[0m \u001b[0misna\u001b[0m\u001b[1;33m(\u001b[0m\u001b[0mkey\u001b[0m\u001b[1;33m)\u001b[0m \u001b[1;32mand\u001b[0m \u001b[1;32mnot\u001b[0m \u001b[0mself\u001b[0m\u001b[1;33m.\u001b[0m\u001b[0mhasnans\u001b[0m\u001b[1;33m:\u001b[0m\u001b[1;33m\u001b[0m\u001b[1;33m\u001b[0m\u001b[0m\n",
      "\u001b[1;31mKeyError\u001b[0m: 'energy_sum'"
     ]
    },
    {
     "data": {
      "image/png": "[encoded data removed]",
      "text/plain": [
       "<Figure size 432x288 with 1 Axes>"
      ]
     },
     "metadata": {
      "needs_background": "light"
     },
     "output_type": "display_data"
    }
   ],
   "source": [
    "plt.plot(test)\n",
    "plt.plot(predictions, color=\"red\")\n",
    "test[\"energy_sum\"].min()"
   ]
  },
  {
   "cell_type": "code",
   "execution_count": 4,
   "id": "3907cfd7",
   "metadata": {},
   "outputs": [
    {
     "data": {
      "text/plain": [
       "['C:\\\\Users\\\\sarve\\\\Documents\\\\DS-Production\\\\Energy_production\\\\notebooks',\n",
       " 'C:\\\\Users\\\\sarve\\\\miniconda3\\\\envs\\\\dataProdEnv\\\\python39.zip',\n",
       " 'C:\\\\Users\\\\sarve\\\\miniconda3\\\\envs\\\\dataProdEnv\\\\DLLs',\n",
       " 'C:\\\\Users\\\\sarve\\\\miniconda3\\\\envs\\\\dataProdEnv\\\\lib',\n",
       " 'C:\\\\Users\\\\sarve\\\\miniconda3\\\\envs\\\\dataProdEnv',\n",
       " '',\n",
       " 'C:\\\\Users\\\\sarve\\\\AppData\\\\Roaming\\\\Python\\\\Python39\\\\site-packages',\n",
       " 'C:\\\\Users\\\\sarve\\\\miniconda3\\\\envs\\\\dataProdEnv\\\\lib\\\\site-packages',\n",
       " 'C:\\\\Users\\\\sarve\\\\miniconda3\\\\envs\\\\dataProdEnv\\\\lib\\\\site-packages\\\\win32',\n",
       " 'C:\\\\Users\\\\sarve\\\\miniconda3\\\\envs\\\\dataProdEnv\\\\lib\\\\site-packages\\\\win32\\\\lib',\n",
       " 'C:\\\\Users\\\\sarve\\\\miniconda3\\\\envs\\\\dataProdEnv\\\\lib\\\\site-packages\\\\Pythonwin',\n",
       " 'C:\\\\Users\\\\sarve\\\\miniconda3\\\\envs\\\\dataProdEnv\\\\lib\\\\site-packages\\\\IPython\\\\extensions',\n",
       " 'C:\\\\Users\\\\sarve\\\\.ipython',\n",
       " 'C:\\\\Users\\\\sarve\\\\Documents\\\\DS-Production\\\\Energy_production',\n",
       " 'C:\\\\Users\\\\sarve\\\\Documents\\\\DS-Production\\\\Energy_production\\\\app',\n",
       " 'C:\\\\Users\\\\sarve\\\\Documents\\\\DS-Production\\\\Energy_production',\n",
       " 'C:\\\\Users\\\\sarve\\\\Documents\\\\DS-Production\\\\Energy_production\\\\pipelines']"
      ]
     },
     "execution_count": 4,
     "metadata": {},
     "output_type": "execute_result"
    }
   ],
   "source": [
    "import os, sys\n",
    "\n",
    "\n",
    "notebook_path = os.getcwd()\n",
    "path_to_package_test = notebook_path[:-10]\n",
    "path_to_app_test = path_to_package_test + \"\\\\pipelines\"\n",
    "sys.path.extend([path_to_package_test, path_to_app_test])\n",
    "sys.path"
   ]
  },
  {
   "cell_type": "code",
   "execution_count": 5,
   "id": "e06eea02",
   "metadata": {
    "scrolled": true
   },
   "outputs": [
    {
     "name": "stderr",
     "output_type": "stream",
     "text": [
      "C:\\Users\\sarve\\AppData\\Roaming\\Python\\Python39\\site-packages\\pandas\\core\\frame.py:3607: SettingWithCopyWarning: \n",
      "A value is trying to be set on a copy of a slice from a DataFrame.\n",
      "Try using .loc[row_indexer,col_indexer] = value instead\n",
      "\n",
      "See the caveats in the documentation: https://pandas.pydata.org/pandas-docs/stable/user_guide/indexing.html#returning-a-view-versus-a-copy\n",
      "  self._set_item(key, value)\n",
      "C:\\Users\\sarve\\miniconda3\\envs\\dataProdEnv\\lib\\site-packages\\sklearn\\utils\\validation.py:1673: FutureWarning: Feature names only support names that are all strings. Got feature names with dtypes: ['int', 'str']. An error will be raised in 1.2.\n",
      "  warnings.warn(\n",
      "C:\\Users\\sarve\\miniconda3\\envs\\dataProdEnv\\lib\\site-packages\\sklearn\\utils\\validation.py:1673: FutureWarning: Feature names only support names that are all strings. Got feature names with dtypes: ['int', 'str']. An error will be raised in 1.2.\n",
      "  warnings.warn(\n",
      "C:\\Users\\sarve\\miniconda3\\envs\\dataProdEnv\\lib\\site-packages\\sklearn\\utils\\validation.py:1673: FutureWarning: Feature names only support names that are all strings. Got feature names with dtypes: ['int', 'str']. An error will be raised in 1.2.\n",
      "  warnings.warn(\n",
      "C:\\Users\\sarve\\AppData\\Roaming\\Python\\Python39\\site-packages\\pandas\\core\\frame.py:3607: SettingWithCopyWarning: \n",
      "A value is trying to be set on a copy of a slice from a DataFrame.\n",
      "Try using .loc[row_indexer,col_indexer] = value instead\n",
      "\n",
      "See the caveats in the documentation: https://pandas.pydata.org/pandas-docs/stable/user_guide/indexing.html#returning-a-view-versus-a-copy\n",
      "  self._set_item(key, value)\n"
     ]
    },
    {
     "name": "stdout",
     "output_type": "stream",
     "text": [
      "{'model_performance': 0.69, 'model_path': '../models/model_1.joblib'}\n"
     ]
    },
    {
     "name": "stderr",
     "output_type": "stream",
     "text": [
      "C:\\Users\\sarve\\miniconda3\\envs\\dataProdEnv\\lib\\site-packages\\sklearn\\utils\\validation.py:1673: FutureWarning: Feature names only support names that are all strings. Got feature names with dtypes: ['int', 'str']. An error will be raised in 1.2.\n",
      "  warnings.warn(\n",
      "C:\\Users\\sarve\\miniconda3\\envs\\dataProdEnv\\lib\\site-packages\\sklearn\\utils\\validation.py:1673: FutureWarning: Feature names only support names that are all strings. Got feature names with dtypes: ['int', 'str']. An error will be raised in 1.2.\n",
      "  warnings.warn(\n",
      "C:\\Users\\sarve\\miniconda3\\envs\\dataProdEnv\\lib\\site-packages\\sklearn\\utils\\validation.py:1673: FutureWarning: Feature names only support names that are all strings. Got feature names with dtypes: ['int', 'str']. An error will be raised in 1.2.\n",
      "  warnings.warn(\n"
     ]
    },
    {
     "name": "stdout",
     "output_type": "stream",
     "text": [
      "{'model_performance': 0.69, 'model_path': '../models/model_1.joblib'}\n"
     ]
    }
   ],
   "source": [
    "from pipelines.train import train"
   ]
  },
  {
   "cell_type": "code",
   "execution_count": null,
   "id": "2be9bf8e",
   "metadata": {},
   "outputs": [],
   "source": []
  }
 ],
 "metadata": {
  "kernelspec": {
   "display_name": "Python 3 (ipykernel)",
   "language": "python",
   "name": "python3"
  },
  "language_info": {
   "codemirror_mode": {
    "name": "ipython",
    "version": 3
   },
   "file_extension": ".py",
   "mimetype": "text/x-python",
   "name": "python",
   "nbconvert_exporter": "python",
   "pygments_lexer": "ipython3",
   "version": "3.9.7"
  }
 },
 "nbformat": 4,
 "nbformat_minor": 5
}
